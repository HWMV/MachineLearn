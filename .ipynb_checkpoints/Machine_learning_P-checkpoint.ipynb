{
 "cells": [
  {
   "cell_type": "code",
   "execution_count": null,
   "id": "052b6717",
   "metadata": {},
   "outputs": [],
   "source": [
    "import pandas as pd\n",
    "import numpy as np # 결측값 예측을 위해선 numpy를 불러와야 한다"
   ]
  },
  {
   "cell_type": "code",
   "execution_count": null,
   "id": "d7f84c31",
   "metadata": {},
   "outputs": [],
   "source": [
    "# m_list = ['양념치킨','후라이드','양반후반']\n",
    "\n",
    "# menu = pd.Series(m_list)\n",
    "# m_list"
   ]
  },
  {
   "cell_type": "code",
   "execution_count": null,
   "id": "44ce70ad",
   "metadata": {},
   "outputs": [],
   "source": [
    "# p_list = ['13000','11000','12000']\n",
    "# price = pd.Series(p_list)\n",
    "\n",
    "# price"
   ]
  },
  {
   "cell_type": "code",
   "execution_count": null,
   "id": "a3e27e1a",
   "metadata": {},
   "outputs": [],
   "source": [
    "# pd.DataFrame({\n",
    "#     '메뉴' : menu,\n",
    "#     '가격' : price\n",
    "# })"
   ]
  },
  {
   "cell_type": "code",
   "execution_count": null,
   "id": "f83751a3",
   "metadata": {},
   "outputs": [],
   "source": [
    "data = {\n",
    "    \"메뉴\":['후라이드', '양념치킨', '간장치킨', '마늘치킨', '파닭', '닭강정', '양반후반'],\n",
    "    \"가격\":[12000, 13000, 14000, 14000, 14000, 15000, 13000],\n",
    "    \"호수\":['10호', '10호', '9호', '9호', '11호', '12호', '10호'],\n",
    "    \"칼로리\":[1000, 1400, 1600, 1800, 1300, 1500, 1300],\n",
    "}\n",
    "data = pd.DataFrame(data)\n",
    "data.to_csv('modudak.csv', index=False) # csv 파일로 생성하기. 인덱스 컬럼 지우기\n",
    "df = pd.read_csv('modudak.csv') # 변수 불러와서 데이터에 담기\n",
    "# [[YOUR CODE]]\n",
    "print(type(df)) # df 타입 확인"
   ]
  },
  {
   "cell_type": "code",
   "execution_count": null,
   "id": "94a29478",
   "metadata": {},
   "outputs": [],
   "source": [
    "df.head(6) #df 샘플 위부터 5개 확인, (n) n개 확인"
   ]
  },
  {
   "cell_type": "code",
   "execution_count": null,
   "id": "d1e77d31",
   "metadata": {},
   "outputs": [],
   "source": [
    "df.tail() # df샘플 아래에서 5개"
   ]
  },
  {
   "cell_type": "code",
   "execution_count": null,
   "id": "e7dbf60b",
   "metadata": {},
   "outputs": [],
   "source": [
    "df.to_csv('test.csv') # 데이터 csv파일로 저장하기"
   ]
  },
  {
   "cell_type": "code",
   "execution_count": null,
   "id": "5933027d",
   "metadata": {},
   "outputs": [],
   "source": [
    "pd.read_csv('test.csv')"
   ]
  },
  {
   "cell_type": "code",
   "execution_count": null,
   "id": "f21672cf",
   "metadata": {},
   "outputs": [],
   "source": [
    "df['메뉴'] # df.메뉴 도 같은 형태 # 시리즈 선택(메뉴열)"
   ]
  },
  {
   "cell_type": "code",
   "execution_count": null,
   "id": "ee91361f",
   "metadata": {},
   "outputs": [],
   "source": [
    "# 데이터프레임 선택( 메뉴, 가격 )\n",
    "df[['메뉴','가격']]"
   ]
  },
  {
   "cell_type": "code",
   "execution_count": null,
   "id": "f285dd9b",
   "metadata": {},
   "outputs": [],
   "source": [
    "# 행 선택\n",
    "df['가격'] >= 14000"
   ]
  },
  {
   "cell_type": "code",
   "execution_count": null,
   "id": "35040b7c",
   "metadata": {},
   "outputs": [],
   "source": [
    "# 14000원 보다 큰 가격 데이터 선택\n",
    "cond = df['가격'] >= 14000 # 행 조건 선택\n",
    "df[cond] # 출력\n"
   ]
  },
  {
   "cell_type": "code",
   "execution_count": null,
   "id": "98c079f7",
   "metadata": {},
   "outputs": [],
   "source": [
    "# 조건 2개 이상 일?때(AND)\n",
    "# 가격 >= 14000\n",
    "# 호수 == 9호\n",
    "cond1 = df['가격'] >=14000\n",
    "cond2 = df['호수'] == '9호'\n",
    "df[cond1 & cond2]"
   ]
  },
  {
   "cell_type": "code",
   "execution_count": null,
   "id": "80ea099c",
   "metadata": {},
   "outputs": [],
   "source": [
    "# 조건 2개 이상 일?때 (or)\n",
    "# 가격 >= 14000\n",
    "# 호수 == 9호\n",
    "cond1 = df['가격'] >=14000\n",
    "cond2 = df['호수'] == '9호'\n",
    "df[cond1 | cond2]"
   ]
  },
  {
   "cell_type": "code",
   "execution_count": null,
   "id": "61db334d",
   "metadata": {},
   "outputs": [],
   "source": [
    "# isin() 함수 활용\n",
    "cond = df['호수'].isin(['9호','10호'])\n",
    "df[cond]"
   ]
  },
  {
   "cell_type": "code",
   "execution_count": null,
   "id": "3e4a598c",
   "metadata": {},
   "outputs": [],
   "source": [
    "#index 명 임의 변경\n",
    "df['index'] = ['a','b','c','d','e','f','g']\n",
    "df = df.set_index(['index'])\n",
    "df"
   ]
  },
  {
   "cell_type": "code",
   "execution_count": null,
   "id": "5759d20b",
   "metadata": {},
   "outputs": [],
   "source": [
    "# 인덱싱(행 전체)\n",
    "# loc 인덱스 명, 컬럼 명\n",
    "df.loc['a']"
   ]
  },
  {
   "cell_type": "code",
   "execution_count": null,
   "id": "11de8a38",
   "metadata": {},
   "outputs": [],
   "source": [
    "# 슬라이싱 (컬럼 전체)\n",
    "# 가격\n",
    "df.loc[:,'가격']"
   ]
  },
  {
   "cell_type": "code",
   "execution_count": null,
   "id": "7a618e96",
   "metadata": {},
   "outputs": [],
   "source": [
    "# 슬라이싱 메뉴와 가격\n",
    "df.loc['c','메뉴':'가격']"
   ]
  },
  {
   "cell_type": "code",
   "execution_count": null,
   "id": "bbc10e63",
   "metadata": {},
   "outputs": [],
   "source": [
    "# 슬라이싱 메뉴와 칼로리(컬럼이 떨어져 있는 경우)\n",
    "df.loc['c',['메뉴','칼로리']]"
   ]
  },
  {
   "cell_type": "code",
   "execution_count": null,
   "id": "a7619f9c",
   "metadata": {},
   "outputs": [],
   "source": [
    "df.loc['b':'c','메뉴':'가격']"
   ]
  },
  {
   "cell_type": "code",
   "execution_count": null,
   "id": "e09df4e5",
   "metadata": {},
   "outputs": [],
   "source": [
    "# iloc는 인덱스의 숫자를 활용해서 출력"
   ]
  },
  {
   "cell_type": "code",
   "execution_count": null,
   "id": "0060e45e",
   "metadata": {},
   "outputs": [],
   "source": [
    "df"
   ]
  },
  {
   "cell_type": "code",
   "execution_count": null,
   "id": "b81c3006",
   "metadata": {},
   "outputs": [],
   "source": [
    "# 인덱스 명 변경\n",
    "df = df.set_index(keys=['메뉴'])\n",
    "df"
   ]
  },
  {
   "cell_type": "code",
   "execution_count": null,
   "id": "23ed3d1f",
   "metadata": {},
   "outputs": [],
   "source": [
    "#loc 슬라이싱\n",
    "# 양념에서 마늘까지 호수에서 칼로리까지\n",
    "df.loc['양념치킨':'마늘치킨','호수':'칼로리']"
   ]
  },
  {
   "cell_type": "code",
   "execution_count": null,
   "id": "9a19822d",
   "metadata": {},
   "outputs": [],
   "source": [
    "# iloc 슬라이싱\n",
    "# 위와 같이\n",
    "df.iloc[1:4,1:]"
   ]
  },
  {
   "cell_type": "code",
   "execution_count": null,
   "id": "f606d795",
   "metadata": {},
   "outputs": [],
   "source": [
    "df"
   ]
  },
  {
   "cell_type": "code",
   "execution_count": null,
   "id": "3f8f1c56",
   "metadata": {},
   "outputs": [],
   "source": [
    "# 할인율 0.2 칼럼 추가\n",
    "df['할인율'] = 0.2\n",
    "df"
   ]
  },
  {
   "cell_type": "code",
   "execution_count": null,
   "id": "79517307",
   "metadata": {},
   "outputs": [],
   "source": [
    "# 할인율 계산한 할인가 컬럼 생성\n",
    "df['할인가'] = df['가격'] * (1-df['할인율'])\n",
    "df"
   ]
  },
  {
   "cell_type": "code",
   "execution_count": null,
   "id": "d04c98c6",
   "metadata": {},
   "outputs": [],
   "source": [
    "# 결측값 추가, 원산지 컬럼을 생성하고 결측값(NaN) 대입\n",
    "df['원산지'] = np.nan\n",
    "df"
   ]
  },
  {
   "cell_type": "code",
   "execution_count": null,
   "id": "1b14b001",
   "metadata": {},
   "outputs": [],
   "source": [
    "# 리스트 형태로 데이터(행) 추가\n",
    "aiffel = ['아이펠치킨',16000,'11호',1200,0.5,8000,'국내산']\n",
    "df.loc['new'] = aiffel\n",
    "df"
   ]
  },
  {
   "cell_type": "code",
   "execution_count": null,
   "id": "24720897",
   "metadata": {},
   "outputs": [],
   "source": [
    "# 딕셔너리 형태로 데이터(행) 추가\n",
    "flip = {'메뉴':'풀잎치킨','가격':10000,'호수':'10호','원산지':'국내산'}\n",
    "df.loc[10] = flip\n",
    "df"
   ]
  },
  {
   "cell_type": "code",
   "execution_count": null,
   "id": "3767f4f5",
   "metadata": {},
   "outputs": [],
   "source": [
    "# 후라이드 원산지 '국내산' 값 추가(loc)\n",
    "df.loc[0,'원산지'] = '국내산'\n",
    "df"
   ]
  },
  {
   "cell_type": "code",
   "execution_count": null,
   "id": "bbb3b396",
   "metadata": {},
   "outputs": [],
   "source": [
    "# 파닭과 닭강정의 원산지 '브라질' 값 추가 (iloc)\n",
    "df.iloc[4,-1] = '브라질'\n",
    "df.iloc[5,-1] = '브라질'\n",
    "df"
   ]
  },
  {
   "cell_type": "code",
   "execution_count": null,
   "id": "18faca82",
   "metadata": {},
   "outputs": [],
   "source": [
    "# replace 활용(양반후반 > 양념반후라이드반)\n",
    "df = df.replace('양반후반','양념반후라이드반')\n",
    "df"
   ]
  },
  {
   "cell_type": "code",
   "execution_count": null,
   "id": "f89f601b",
   "metadata": {},
   "outputs": [],
   "source": [
    "# replace 활용 (아이펠 치킨 >[인기]아이펠치킨, 풀잎치킨 > [베스트]풀잎치킨])\n",
    "# 2개 동시에 바꾸기\n",
    "df.replace('아이펠치킨','[인기]아이펠치킨').replace('풀잎치킨','[베스트]풀잎치킨')"
   ]
  },
  {
   "cell_type": "code",
   "execution_count": null,
   "id": "e87ae8bd",
   "metadata": {},
   "outputs": [],
   "source": [
    "# replace, 딕셔너리 활용 (후라이드 > 황금후라이드, 양념치킨 > 모두양념치킨)\n",
    "d = {'후라이드':'황금후라이드','양념치킨':'모두양념치킨'}\n",
    "\n",
    "df = df.replace(d)\n",
    "df"
   ]
  },
  {
   "cell_type": "code",
   "execution_count": null,
   "id": "41b906ab",
   "metadata": {},
   "outputs": [],
   "source": [
    "# 숫자 변경\n",
    "\n",
    "df = df.replace(10000, 9900)\n",
    "df"
   ]
  },
  {
   "cell_type": "code",
   "execution_count": null,
   "id": "f73de819",
   "metadata": {},
   "outputs": [],
   "source": [
    "# new_modudak.csv로 저장\n",
    "df.to_csv('new_modudak.csv')"
   ]
  },
  {
   "cell_type": "code",
   "execution_count": null,
   "id": "b7c4fc9d",
   "metadata": {},
   "outputs": [],
   "source": []
  }
 ],
 "metadata": {
  "kernelspec": {
   "display_name": "Python 3 (ipykernel)",
   "language": "python",
   "name": "python3"
  },
  "language_info": {
   "codemirror_mode": {
    "name": "ipython",
    "version": 3
   },
   "file_extension": ".py",
   "mimetype": "text/x-python",
   "name": "python",
   "nbconvert_exporter": "python",
   "pygments_lexer": "ipython3",
   "version": "3.9.7"
  }
 },
 "nbformat": 4,
 "nbformat_minor": 5
}
