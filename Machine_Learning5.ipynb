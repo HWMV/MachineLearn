{
  "nbformat": 4,
  "nbformat_minor": 0,
  "metadata": {
    "colab": {
      "provenance": [],
      "authorship_tag": "ABX9TyPUsLG6kN/UZIWy1qkxppIV",
      "include_colab_link": true
    },
    "kernelspec": {
      "name": "python3",
      "display_name": "Python 3"
    },
    "language_info": {
      "name": "python"
    }
  },
  "cells": [
    {
      "cell_type": "markdown",
      "metadata": {
        "id": "view-in-github",
        "colab_type": "text"
      },
      "source": [
        "<a href=\"https://colab.research.google.com/github/HWMV/Machine_Learning/blob/main/Machine_Learning5.ipynb\" target=\"_parent\"><img src=\"https://colab.research.google.com/assets/colab-badge.svg\" alt=\"Open In Colab\"/></a>"
      ]
    },
    {
      "cell_type": "code",
      "execution_count": 104,
      "metadata": {
        "id": "4LXXdewWVBlg"
      },
      "outputs": [],
      "source": [
        "import pandas as pd\n",
        "from sklearn.tree import DecisionTreeClassifier\n",
        "from sklearn.datasets import load_breast_cancer\n",
        "from sklearn.model_selection import train_test_split\n",
        "from sklearn.metrics import accuracy_score"
      ]
    },
    {
      "cell_type": "code",
      "source": [
        "# 데이터 세트 불러오기\n",
        "def make_dataset():\n",
        "    iris = load_breast_cancer()\n",
        "    df = pd.DataFrame(iris.data, columns=iris.feature_names)\n",
        "    df['target'] = iris.target\n",
        "    x_train, x_test, y_train, y_test = train_test_split(\n",
        "      df.drop('target', axis=1), df['target'], test_size=0.5,\n",
        "      random_state=1004\n",
        "    )\n",
        "    return x_train, x_test, y_train, y_test\n",
        "\n",
        "x_train, x_test, y_train, y_test = make_dataset()\n",
        "x_train.shape, x_test.shape, y_train.shape, y_test.shape"
      ],
      "metadata": {
        "colab": {
          "base_uri": "https://localhost:8080/"
        },
        "id": "Kq43_1s7V-38",
        "outputId": "08b97777-3e01-449a-de87-762f204ef976"
      },
      "execution_count": 105,
      "outputs": [
        {
          "output_type": "execute_result",
          "data": {
            "text/plain": [
              "((284, 30), (285, 30), (284,), (285,))"
            ]
          },
          "metadata": {},
          "execution_count": 105
        }
      ]
    },
    {
      "cell_type": "code",
      "source": [
        "# 타겟값 확인\n",
        "y_train.value_counts()"
      ],
      "metadata": {
        "colab": {
          "base_uri": "https://localhost:8080/"
        },
        "id": "2dXKo5k3bqXa",
        "outputId": "fb7d93a6-ebee-49da-cdc6-b5e9f264ca83"
      },
      "execution_count": 106,
      "outputs": [
        {
          "output_type": "execute_result",
          "data": {
            "text/plain": [
              "1    190\n",
              "0     94\n",
              "Name: target, dtype: int64"
            ]
          },
          "metadata": {},
          "execution_count": 106
        }
      ]
    },
    {
      "cell_type": "code",
      "source": [
        "# 모델 변수에 저장 (random_state 설정 필수)\n",
        "model = DecisionTreeClassifier(random_state=0)\n",
        "# 모델 학습 시키기\n",
        "model.fit(x_train, y_train)\n",
        "# 모델 예측 하기\n",
        "model.predict(x_test)\n",
        "# 예측한 값 한눈에 보_기 좋게 accuracy로 정확도 평가(확률)\n",
        "pred = model.predict(x_test)\n",
        "accuracy_score(y_test, pred)"
      ],
      "metadata": {
        "colab": {
          "base_uri": "https://localhost:8080/"
        },
        "id": "hkpk1k37VVRh",
        "outputId": "537348a7-cc18-444a-f868-098dea4d5822"
      },
      "execution_count": 107,
      "outputs": [
        {
          "output_type": "execute_result",
          "data": {
            "text/plain": [
              "0.9263157894736842"
            ]
          },
          "metadata": {},
          "execution_count": 107
        }
      ]
    },
    {
      "cell_type": "markdown",
      "source": [
        "* criterion(기본값 gini) : 불순도 지표 (또는 엔트로피 불순도)\n",
        "* max_depth(기본값 None) : 최대 한도 깊이 트리의 하이퍼 파라미터 값의 튜닝을 많이 한다. 오버피팅 방지를 위한 제한하기 위함.\n",
        "* min_samples_split(기본값 2) : 자식 노드를 갖기 위한 최소한의 데이터 수\n",
        "* min_samples_leaf(기본값 1) : 리프 노드가 되기 위한 최소 샘플 수"
      ],
      "metadata": {
        "id": "weCEr6RWcs2D"
      }
    },
    {
      "cell_type": "code",
      "source": [
        "# # 모델 변수에 저장 (random_state 설정 필수)\n",
        "# model = DecisionTreeClassifier(max_depth= 4,\n",
        "#                                min_samples_leaf=2, # 정확도 조절 해보기\n",
        "#                                random_state=0) # max_depth 조건 줘보기\n",
        "# # max_depth = 5 이상은 정확도가 같다\n",
        "\n",
        "# # 모델 학습 시키기\n",
        "# model.fit(x_train, y_train)\n",
        "# # 모델 예측 하기\n",
        "# model.predict(x_test)\n",
        "# # 예측한 값 한눈에 보_기 좋게 accuracy로 정확도 평가(확률)\n",
        "# pred = model.predict(x_test)\n",
        "# accuracy_score(y_test, pred)"
      ],
      "metadata": {
        "id": "q0eQ2jGFb2PD"
      },
      "execution_count": 108,
      "outputs": []
    },
    {
      "cell_type": "code",
      "source": [
        "# entropy 사용해보기\n",
        "# 모델 변수에 저장 (random_state 설정 필수)\n",
        "model = DecisionTreeClassifier(\n",
        "    criterion='entropy', # entropy 사용\n",
        "    max_depth=5,\n",
        "    min_samples_split=2,\n",
        "    min_samples_leaf=2,\n",
        "    random_state=0)     # 여러가지 조건들로 정확성을 높여보자! (튜닝 해나가는 것)\n",
        "\n",
        "# 모델 학습 시키기\n",
        "model.fit(x_train, y_train)\n",
        "# 모델 예측 하기\n",
        "model.predict(x_test)\n",
        "# 예측한 값 한눈에 보_기 좋게 accuracy로 정확도 평가(확률)\n",
        "pred = model.predict(x_test)\n",
        "accuracy_score(y_test, pred)"
      ],
      "metadata": {
        "colab": {
          "base_uri": "https://localhost:8080/"
        },
        "id": "cSzkWB0Edot8",
        "outputId": "c57928a7-a76e-44cb-b138-ce992b7a3d6a"
      },
      "execution_count": 109,
      "outputs": [
        {
          "output_type": "execute_result",
          "data": {
            "text/plain": [
              "0.9403508771929825"
            ]
          },
          "metadata": {},
          "execution_count": 109
        }
      ]
    },
    {
      "cell_type": "markdown",
      "source": [
        "2. 랜덤포레스트\n",
        "* 지도학습 알고리즘(분류, 회귀)\n",
        "* 의사결정나무의 앙상블\n",
        "* 성능이 좋음\n",
        "* 부트스트랩 스트링 (데이터 셋 중복 허용)\n",
        "* 최종 다수결 투표\n",
        "* 앙상블\n",
        "  * 배깅 : 같은 알고리즘으로 여러 모델을 만들어 분류함\n",
        "  * 부스팅 : 학습과 예측을 하면서 가중치 반영(xgboost)"
      ],
      "metadata": {
        "id": "yVpSijJ0ivhH"
      }
    },
    {
      "cell_type": "code",
      "source": [
        "# 랜덤프레스트\n",
        "from sklearn.ensemble import RandomForestClassifier"
      ],
      "metadata": {
        "id": "WcpsCAm-io5A"
      },
      "execution_count": 110,
      "outputs": []
    },
    {
      "cell_type": "code",
      "source": [
        "model = RandomForestClassifier(random_state=0) # random_state로 정확도 고정\n",
        "model.fit(x_train, y_train)\n",
        "pred = model.predict(x_test)\n",
        "accuracy_score(y_test, pred) # 계속 실행할 수록 정확도 올라간다"
      ],
      "metadata": {
        "colab": {
          "base_uri": "https://localhost:8080/"
        },
        "id": "44_GOcU5jRPc",
        "outputId": "54a6ba4c-aa8b-4191-f8b7-e848a06f56bb"
      },
      "execution_count": 111,
      "outputs": [
        {
          "output_type": "execute_result",
          "data": {
            "text/plain": [
              "0.9438596491228071"
            ]
          },
          "metadata": {},
          "execution_count": 111
        }
      ]
    },
    {
      "cell_type": "markdown",
      "source": [
        "랜덤포레스트 하이퍼파라미터\n",
        "* n_estimators(기본값 100) : 트리의 수\n",
        "* crterion(기본값 gini) : 불순도 지표(엔트로피 포함)\n",
        "* max_depth(기본값 None) : 최대 한도 깊이\n",
        "* min_samples_split(기본값 2)\n",
        "* min_samples_leaf(기본값 1)"
      ],
      "metadata": {
        "id": "Jym4BX2oj7K1"
      }
    },
    {
      "cell_type": "code",
      "source": [
        "model = RandomForestClassifier(\n",
        "    n_estimators=200,\n",
        "    max_depth=3,\n",
        "    min_samples_split=10,\n",
        "    random_state=0) # random_state로 정확도 고정\n",
        "model.fit(x_train, y_train)\n",
        "pred = model.predict(x_test)\n",
        "accuracy_score(y_test, pred) # 계속 실행할 수록 정확도 올라간다\n",
        "\n",
        "# 정확도 결과\n",
        "# 0.9473684210526315 max_depth=3\n",
        "# 0.9508771929824561 min_samples_split=10"
      ],
      "metadata": {
        "colab": {
          "base_uri": "https://localhost:8080/"
        },
        "id": "msMf1lDPkWPp",
        "outputId": "87c9e4cc-6f69-4fa0-b21e-e6021d180316"
      },
      "execution_count": 112,
      "outputs": [
        {
          "output_type": "execute_result",
          "data": {
            "text/plain": [
              "0.9508771929824561"
            ]
          },
          "metadata": {},
          "execution_count": 112
        }
      ]
    },
    {
      "cell_type": "markdown",
      "source": [
        "3. XGBoost\n",
        "* eXtreme Gradient Boosting\n",
        "* 부스팅(앙상블) 기반의 알고리즘\n",
        "* 트리 앙상블 중 성능이 좋은 알고리즘\n",
        "* 캐글(글로벌 AI 경진대회) 뛰어난 성능을 보이면서 인기가 높아짐"
      ],
      "metadata": {
        "id": "D-1zv1kTnJfw"
      }
    },
    {
      "cell_type": "markdown",
      "source": [
        "xgboost 하이퍼파라미터\n",
        "* booster(기본값 gbtree): 부스팅 알고리즘(or dart, gblinear)\n",
        "* objective(기본값 binary:logistic) : 이진분류(다중분류 multi:softmax)\n",
        "* learning_rate(기본값 0.1) : 학습률\n",
        "* subsample(기본값 1) : 훈련 샘플 개수의 비율\n",
        "* colsample_bytree(기본값 1) : 특성 개수의 비율\n",
        "* n_jobs(기본값 1) : 사용 코어 수(-1:모든 코어를 다 사용)\n",
        "* n_estimators, max_depth 등 위와 같음"
      ],
      "metadata": {
        "id": "PuVDNUOAniMd"
      }
    },
    {
      "cell_type": "code",
      "source": [
        "# xgboost\n",
        "from xgboost import XGBClassifier\n",
        "model = XGBClassifier(random_state=0)\n",
        "model.fit(x_train, y_train)\n",
        "pred = model.predict(x_test)\n",
        "accuracy_score(y_test, pred) # 어느 부분에서 노드보다 높게 나오는 거지?\n",
        "# 0.9614035087719298 위에서 fit을 여러 조건으로 해봐서? (노드 0.95087~)\n"
      ],
      "metadata": {
        "colab": {
          "base_uri": "https://localhost:8080/"
        },
        "id": "Z4Lw1kT3oQA_",
        "outputId": "be0ac771-a668-43f2-94e0-5dc97662639f"
      },
      "execution_count": 113,
      "outputs": [
        {
          "output_type": "execute_result",
          "data": {
            "text/plain": [
              "0.9614035087719298"
            ]
          },
          "metadata": {},
          "execution_count": 113
        }
      ]
    },
    {
      "cell_type": "code",
      "source": [
        "from xgboost.core import Booster\n",
        "# xgboost\n",
        "from xgboost import XGBClassifier\n",
        "model = XGBClassifier(\n",
        "    # booster = 'gbtree',\n",
        "    # objective = 'binary:logistic',\n",
        "    max_depth = 3,\n",
        "    learning_rate=0.1,      # learning_rate 그림으로 검색해보자!\n",
        "    # subample = 3,\n",
        "    colsample_bytree = 1,\n",
        "    n_jobs = -1,\n",
        "    n_estimators=200,      # learning_rate와 반비례로 같이 사용 해야한다!\n",
        "    random_state=0)\n",
        "eval_set = [(x_train, y_train)]\n",
        "model.fit(x_train,\n",
        "          y_train,\n",
        "          eval_set=eval_set,\n",
        "          early_stopping_rounds=10)\n",
        "\n",
        "# model.fit(x_train, y_train)\n",
        "pred = model.predict(x_test)\n",
        "accuracy_score(y_test, pred)\n",
        "\n",
        "# 0.9614035087719298 learning_rate=0.2\n",
        "# 0.9649122807017544 l_rate=0.1, m_d=3, n_es=200\n"
      ],
      "metadata": {
        "colab": {
          "base_uri": "https://localhost:8080/"
        },
        "id": "2UYiPG10pb6i",
        "outputId": "5a77af61-bad8-4b18-c0c9-c9171ba92afb"
      },
      "execution_count": 114,
      "outputs": [
        {
          "output_type": "stream",
          "name": "stdout",
          "text": [
            "[0]\tvalidation_0-logloss:0.55350\n",
            "[1]\tvalidation_0-logloss:0.48740\n",
            "[2]\tvalidation_0-logloss:0.43345\n",
            "[3]\tvalidation_0-logloss:0.38711\n",
            "[4]\tvalidation_0-logloss:0.34635\n",
            "[5]\tvalidation_0-logloss:0.31226\n",
            "[6]\tvalidation_0-logloss:0.28213\n",
            "[7]\tvalidation_0-logloss:0.25583\n",
            "[8]\tvalidation_0-logloss:0.23310\n",
            "[9]\tvalidation_0-logloss:0.21239\n",
            "[10]\tvalidation_0-logloss:0.19412\n",
            "[11]\tvalidation_0-logloss:0.17740\n",
            "[12]\tvalidation_0-logloss:0.16228\n",
            "[13]\tvalidation_0-logloss:0.14885\n",
            "[14]\tvalidation_0-logloss:0.13687\n",
            "[15]\tvalidation_0-logloss:0.12634\n",
            "[16]\tvalidation_0-logloss:0.11654\n"
          ]
        },
        {
          "output_type": "stream",
          "name": "stderr",
          "text": [
            "/usr/local/lib/python3.10/dist-packages/xgboost/sklearn.py:885: UserWarning: `early_stopping_rounds` in `fit` method is deprecated for better compatibility with scikit-learn, use `early_stopping_rounds` in constructor or`set_params` instead.\n",
            "  warnings.warn(\n"
          ]
        },
        {
          "output_type": "stream",
          "name": "stdout",
          "text": [
            "[17]\tvalidation_0-logloss:0.10803\n",
            "[18]\tvalidation_0-logloss:0.10008\n",
            "[19]\tvalidation_0-logloss:0.09304\n",
            "[20]\tvalidation_0-logloss:0.08683\n",
            "[21]\tvalidation_0-logloss:0.08102\n",
            "[22]\tvalidation_0-logloss:0.07565\n",
            "[23]\tvalidation_0-logloss:0.07072\n",
            "[24]\tvalidation_0-logloss:0.06624\n",
            "[25]\tvalidation_0-logloss:0.06225\n",
            "[26]\tvalidation_0-logloss:0.05857\n",
            "[27]\tvalidation_0-logloss:0.05524\n",
            "[28]\tvalidation_0-logloss:0.05215\n",
            "[29]\tvalidation_0-logloss:0.04934\n",
            "[30]\tvalidation_0-logloss:0.04667\n",
            "[31]\tvalidation_0-logloss:0.04431\n",
            "[32]\tvalidation_0-logloss:0.04202\n",
            "[33]\tvalidation_0-logloss:0.03977\n",
            "[34]\tvalidation_0-logloss:0.03786\n",
            "[35]\tvalidation_0-logloss:0.03606\n",
            "[36]\tvalidation_0-logloss:0.03439\n",
            "[37]\tvalidation_0-logloss:0.03307\n",
            "[38]\tvalidation_0-logloss:0.03161\n",
            "[39]\tvalidation_0-logloss:0.03024\n",
            "[40]\tvalidation_0-logloss:0.02885\n",
            "[41]\tvalidation_0-logloss:0.02768\n",
            "[42]\tvalidation_0-logloss:0.02670\n",
            "[43]\tvalidation_0-logloss:0.02581\n",
            "[44]\tvalidation_0-logloss:0.02486\n",
            "[45]\tvalidation_0-logloss:0.02406\n",
            "[46]\tvalidation_0-logloss:0.02323\n",
            "[47]\tvalidation_0-logloss:0.02255\n",
            "[48]\tvalidation_0-logloss:0.02186\n",
            "[49]\tvalidation_0-logloss:0.02125\n",
            "[50]\tvalidation_0-logloss:0.02066\n",
            "[51]\tvalidation_0-logloss:0.02013\n",
            "[52]\tvalidation_0-logloss:0.01950\n",
            "[53]\tvalidation_0-logloss:0.01900\n",
            "[54]\tvalidation_0-logloss:0.01854\n",
            "[55]\tvalidation_0-logloss:0.01815\n",
            "[56]\tvalidation_0-logloss:0.01773\n",
            "[57]\tvalidation_0-logloss:0.01736\n",
            "[58]\tvalidation_0-logloss:0.01691\n",
            "[59]\tvalidation_0-logloss:0.01656\n",
            "[60]\tvalidation_0-logloss:0.01617\n",
            "[61]\tvalidation_0-logloss:0.01583\n",
            "[62]\tvalidation_0-logloss:0.01554\n",
            "[63]\tvalidation_0-logloss:0.01525\n",
            "[64]\tvalidation_0-logloss:0.01500\n",
            "[65]\tvalidation_0-logloss:0.01484\n",
            "[66]\tvalidation_0-logloss:0.01460\n",
            "[67]\tvalidation_0-logloss:0.01443\n",
            "[68]\tvalidation_0-logloss:0.01424\n",
            "[69]\tvalidation_0-logloss:0.01403\n",
            "[70]\tvalidation_0-logloss:0.01376\n",
            "[71]\tvalidation_0-logloss:0.01354\n",
            "[72]\tvalidation_0-logloss:0.01341\n",
            "[73]\tvalidation_0-logloss:0.01322\n",
            "[74]\tvalidation_0-logloss:0.01302\n",
            "[75]\tvalidation_0-logloss:0.01283\n",
            "[76]\tvalidation_0-logloss:0.01272\n",
            "[77]\tvalidation_0-logloss:0.01260\n",
            "[78]\tvalidation_0-logloss:0.01249\n",
            "[79]\tvalidation_0-logloss:0.01234\n",
            "[80]\tvalidation_0-logloss:0.01223\n",
            "[81]\tvalidation_0-logloss:0.01213\n",
            "[82]\tvalidation_0-logloss:0.01202\n",
            "[83]\tvalidation_0-logloss:0.01191\n",
            "[84]\tvalidation_0-logloss:0.01182\n",
            "[85]\tvalidation_0-logloss:0.01172\n",
            "[86]\tvalidation_0-logloss:0.01163\n",
            "[87]\tvalidation_0-logloss:0.01153\n",
            "[88]\tvalidation_0-logloss:0.01145\n",
            "[89]\tvalidation_0-logloss:0.01136\n",
            "[90]\tvalidation_0-logloss:0.01127\n",
            "[91]\tvalidation_0-logloss:0.01119\n",
            "[92]\tvalidation_0-logloss:0.01110\n",
            "[93]\tvalidation_0-logloss:0.01102\n",
            "[94]\tvalidation_0-logloss:0.01094\n",
            "[95]\tvalidation_0-logloss:0.01086\n",
            "[96]\tvalidation_0-logloss:0.01079\n",
            "[97]\tvalidation_0-logloss:0.01071\n",
            "[98]\tvalidation_0-logloss:0.01064\n",
            "[99]\tvalidation_0-logloss:0.01057\n",
            "[100]\tvalidation_0-logloss:0.01050\n",
            "[101]\tvalidation_0-logloss:0.01043\n",
            "[102]\tvalidation_0-logloss:0.01036\n",
            "[103]\tvalidation_0-logloss:0.01030\n",
            "[104]\tvalidation_0-logloss:0.01023\n",
            "[105]\tvalidation_0-logloss:0.01017\n",
            "[106]\tvalidation_0-logloss:0.01011\n",
            "[107]\tvalidation_0-logloss:0.01004\n",
            "[108]\tvalidation_0-logloss:0.00998\n",
            "[109]\tvalidation_0-logloss:0.00993\n",
            "[110]\tvalidation_0-logloss:0.00987\n",
            "[111]\tvalidation_0-logloss:0.00981\n",
            "[112]\tvalidation_0-logloss:0.00976\n",
            "[113]\tvalidation_0-logloss:0.00970\n",
            "[114]\tvalidation_0-logloss:0.00965\n",
            "[115]\tvalidation_0-logloss:0.00960\n",
            "[116]\tvalidation_0-logloss:0.00955\n",
            "[117]\tvalidation_0-logloss:0.00950\n",
            "[118]\tvalidation_0-logloss:0.00945\n",
            "[119]\tvalidation_0-logloss:0.00940\n",
            "[120]\tvalidation_0-logloss:0.00935\n",
            "[121]\tvalidation_0-logloss:0.00930\n",
            "[122]\tvalidation_0-logloss:0.00926\n",
            "[123]\tvalidation_0-logloss:0.00921\n",
            "[124]\tvalidation_0-logloss:0.00916\n",
            "[125]\tvalidation_0-logloss:0.00912\n",
            "[126]\tvalidation_0-logloss:0.00908\n",
            "[127]\tvalidation_0-logloss:0.00904\n",
            "[128]\tvalidation_0-logloss:0.00899\n",
            "[129]\tvalidation_0-logloss:0.00895\n",
            "[130]\tvalidation_0-logloss:0.00892\n",
            "[131]\tvalidation_0-logloss:0.00888\n",
            "[132]\tvalidation_0-logloss:0.00884\n",
            "[133]\tvalidation_0-logloss:0.00880\n",
            "[134]\tvalidation_0-logloss:0.00876\n",
            "[135]\tvalidation_0-logloss:0.00873\n",
            "[136]\tvalidation_0-logloss:0.00869\n",
            "[137]\tvalidation_0-logloss:0.00865\n",
            "[138]\tvalidation_0-logloss:0.00862\n",
            "[139]\tvalidation_0-logloss:0.00859\n",
            "[140]\tvalidation_0-logloss:0.00855\n",
            "[141]\tvalidation_0-logloss:0.00852\n",
            "[142]\tvalidation_0-logloss:0.00849\n",
            "[143]\tvalidation_0-logloss:0.00845\n",
            "[144]\tvalidation_0-logloss:0.00842\n",
            "[145]\tvalidation_0-logloss:0.00839\n",
            "[146]\tvalidation_0-logloss:0.00836\n",
            "[147]\tvalidation_0-logloss:0.00833\n",
            "[148]\tvalidation_0-logloss:0.00830\n",
            "[149]\tvalidation_0-logloss:0.00827\n",
            "[150]\tvalidation_0-logloss:0.00824\n",
            "[151]\tvalidation_0-logloss:0.00822\n",
            "[152]\tvalidation_0-logloss:0.00819\n",
            "[153]\tvalidation_0-logloss:0.00816\n",
            "[154]\tvalidation_0-logloss:0.00814\n",
            "[155]\tvalidation_0-logloss:0.00811\n",
            "[156]\tvalidation_0-logloss:0.00809\n",
            "[157]\tvalidation_0-logloss:0.00807\n",
            "[158]\tvalidation_0-logloss:0.00804\n",
            "[159]\tvalidation_0-logloss:0.00802\n",
            "[160]\tvalidation_0-logloss:0.00800\n",
            "[161]\tvalidation_0-logloss:0.00797\n",
            "[162]\tvalidation_0-logloss:0.00795\n",
            "[163]\tvalidation_0-logloss:0.00793\n",
            "[164]\tvalidation_0-logloss:0.00791\n",
            "[165]\tvalidation_0-logloss:0.00789\n",
            "[166]\tvalidation_0-logloss:0.00787\n",
            "[167]\tvalidation_0-logloss:0.00786\n",
            "[168]\tvalidation_0-logloss:0.00784\n",
            "[169]\tvalidation_0-logloss:0.00784\n",
            "[170]\tvalidation_0-logloss:0.00784\n",
            "[171]\tvalidation_0-logloss:0.00784\n",
            "[172]\tvalidation_0-logloss:0.00784\n",
            "[173]\tvalidation_0-logloss:0.00784\n",
            "[174]\tvalidation_0-logloss:0.00784\n",
            "[175]\tvalidation_0-logloss:0.00784\n",
            "[176]\tvalidation_0-logloss:0.00784\n",
            "[177]\tvalidation_0-logloss:0.00784\n",
            "[178]\tvalidation_0-logloss:0.00784\n",
            "[179]\tvalidation_0-logloss:0.00784\n",
            "[180]\tvalidation_0-logloss:0.00784\n",
            "[181]\tvalidation_0-logloss:0.00784\n",
            "[182]\tvalidation_0-logloss:0.00784\n",
            "[183]\tvalidation_0-logloss:0.00784\n",
            "[184]\tvalidation_0-logloss:0.00784\n",
            "[185]\tvalidation_0-logloss:0.00784\n",
            "[186]\tvalidation_0-logloss:0.00784\n",
            "[187]\tvalidation_0-logloss:0.00784\n",
            "[188]\tvalidation_0-logloss:0.00784\n",
            "[189]\tvalidation_0-logloss:0.00784\n",
            "[190]\tvalidation_0-logloss:0.00784\n",
            "[191]\tvalidation_0-logloss:0.00784\n",
            "[192]\tvalidation_0-logloss:0.00784\n",
            "[193]\tvalidation_0-logloss:0.00784\n",
            "[194]\tvalidation_0-logloss:0.00784\n",
            "[195]\tvalidation_0-logloss:0.00784\n",
            "[196]\tvalidation_0-logloss:0.00784\n",
            "[197]\tvalidation_0-logloss:0.00784\n",
            "[198]\tvalidation_0-logloss:0.00784\n",
            "[199]\tvalidation_0-logloss:0.00784\n"
          ]
        },
        {
          "output_type": "execute_result",
          "data": {
            "text/plain": [
              "0.9649122807017544"
            ]
          },
          "metadata": {},
          "execution_count": 114
        }
      ]
    },
    {
      "cell_type": "code",
      "source": [
        "# # 조기 종료\n",
        "# from xgboost.core import Booster\n",
        "# # xgboost\n",
        "# from xgboost import XGBClassifier\n",
        "# model = XGBClassifier(\n",
        "#     max_depth = 3,\n",
        "#     learning_rate=0.1,      # learning_rate 그림으로 검색해보자!\n",
        "#     # subample = 3,\n",
        "#     n_estimators=200,      # learning_rate와 반비례로 같이 사용 해야한다!\n",
        "#     random_state=0,\n",
        "#     eval_metric='logloss')\n",
        "# eval_set = [(x_test, y_test)]   # 검증할 데이터 셋 선언\n",
        "# model.fit(x_train, y_train, eval_set=eval_set,\n",
        "#           early_stopping_rounds=10)   #(x_t,y_t, 검증데이터, 조기 종료값)\n",
        "# pred = model.predict(x_test)\n",
        "# accuracy_score(y_test, pred)"
      ],
      "metadata": {
        "id": "sPAniyVwqpQP"
      },
      "execution_count": 115,
      "outputs": []
    },
    {
      "cell_type": "markdown",
      "source": [
        "4. 교차 검증"
      ],
      "metadata": {
        "id": "H-Oh6NOovEH8"
      }
    },
    {
      "cell_type": "markdown",
      "source": [
        "Kfold\n",
        "* 일반적으로 사용되는 교차 검증 기법"
      ],
      "metadata": {
        "id": "KdvdaWcJvVNo"
      }
    },
    {
      "cell_type": "code",
      "source": [
        "# KFold\n",
        "from sklearn.model_selection import KFold\n",
        "import numpy as np\n",
        "\n",
        "# 모델 변수에 저장 (random_state 설정 필수)\n",
        "model = DecisionTreeClassifier(random_state=0)\n",
        "\n",
        "iris = load_breast_cancer()\n",
        "x = pd.DataFrame(iris.data, columns=iris.feature_names)\n",
        "y = iris.target\n",
        "\n",
        "# 모델 검증하기 위해 k개로 나눈다\n",
        "kfold = KFold(n_splits=5)\n",
        "for train_idx, test_idx in kfold.split(x):    # 반복문 활용!\n",
        "    x_train, x_test = x.iloc[train_idx], x.iloc[test_idx]  # 인덱스 값 받아오기\n",
        "    y_train, y_test = y[train_idx], y[test_idx]\n",
        "\n",
        "# 교차검증 강의에서 Nameerror 와 Attribute 에러 발생(iloc)!!!!\n",
        "# Attribute 에러 : numpy 객체에 iloc 속성이 없어서 발생\n",
        "# 해결 : x는 pd데이터 프레임, y는 numpy array y는 iloc 사용할 수 없다\n",
        "# Name 에러 : for문 안에 x 변수 선언 안되어 있음\n",
        "# 해결 : for문 위에 x,y 다시 선언\n",
        "\n",
        "    # 모델 학습 시키기\n",
        "    model.fit(x_train, y_train)\n",
        "    # 예측한 값 한눈에 보_기 좋게 accuracy로 정확도 평가(확률)\n",
        "    pred = model.predict(x_test)\n",
        "    print(accuracy_score(y_test, pred))\n"
      ],
      "metadata": {
        "colab": {
          "base_uri": "https://localhost:8080/"
        },
        "id": "t8CHEzvyvYwr",
        "outputId": "2eefac03-6d95-4135-96c4-373c34392446"
      },
      "execution_count": 140,
      "outputs": [
        {
          "output_type": "stream",
          "name": "stdout",
          "text": [
            "0.8771929824561403\n",
            "0.9122807017543859\n",
            "0.9473684210526315\n",
            "0.9385964912280702\n",
            "0.8407079646017699\n"
          ]
        }
      ]
    },
    {
      "cell_type": "markdown",
      "source": [
        "StratifiedKfold\n",
        "* 불균형한 타겟 비율을 가진 데이터가 한쪽으로 치우치는 것을 방지"
      ],
      "metadata": {
        "id": "QIOTmC7aDS4G"
      }
    },
    {
      "cell_type": "code",
      "source": [
        "# # StratifiedKFold 편차를 줄일 수 있다!\n",
        "\n",
        "# # KFold\n",
        "# from sklearn.model_selection import StratifiedKFold\n",
        "# import numpy as np\n",
        "\n",
        "# # 모델 변수에 저장 (random_state 설정 필수)\n",
        "# model = DecisionTreeClassifier(random_state=0)\n",
        "\n",
        "# iris = load_breast_cancer()\n",
        "# x = pd.DataFrame(iris.data, columns=iris.feature_names)\n",
        "# y = iris.target\n",
        "\n",
        "# # 모델 검증하기 위해 k개로 나눈다\n",
        "# kfold = StratifiedKFold(n_splits=5)\n",
        "# for train_idx, test_idx in kfold.split(x,y):    # 반복문 활용!\n",
        "#     x_train, x_test = x.iloc[train_idx], x.iloc[test_idx]  # 인덱스 값 받아오기\n",
        "#     y_train, y_test = y[train_idx], y[test_idx]\n",
        "\n",
        "# # 교차검증 강의에서 Nameerror 와 Attribute 에러 발생(iloc)!!!!\n",
        "# # Attribute 에러 : numpy 객체에 iloc 속성이 없어서 발생\n",
        "# # 해결 : x는 pd데이터 프레임, y는 numpy array y는 iloc 사용할 수 없다\n",
        "# # Name 에러 : for문 안에 x 변수 선언 안되어 있음\n",
        "# # 해결 : for문 위에 x,y 다시 선언\n",
        "\n",
        "#     # 모델 학습 시키기\n",
        "#     model.fit(x_train, y_train)\n",
        "#     # 예측한 값 한눈에 보_기 좋게 accuracy로 정확도 평가(확률)\n",
        "#     pred = model.predict(x_test)\n",
        "#     print(accuracy_score(y_test, pred))\n"
      ],
      "metadata": {
        "colab": {
          "base_uri": "https://localhost:8080/"
        },
        "id": "awQsI4Tv3Jcy",
        "outputId": "0b162a50-91e4-4f3f-cbaf-238a5c1f1f95"
      },
      "execution_count": 142,
      "outputs": [
        {
          "output_type": "stream",
          "name": "stdout",
          "text": [
            "0.9035087719298246\n",
            "0.9210526315789473\n",
            "0.9122807017543859\n",
            "0.9473684210526315\n",
            "0.9026548672566371\n"
          ]
        }
      ]
    },
    {
      "cell_type": "code",
      "source": [
        "# 교차검증 sklearn\n",
        "from sklearn.model_selection import cross_val_score\n",
        "scores = cross_val_score(model, x, y, cv=3)\n",
        "scores.mean()"
      ],
      "metadata": {
        "colab": {
          "base_uri": "https://localhost:8080/"
        },
        "id": "8N03Cq_LK7r7",
        "outputId": "5fd318c1-a934-4522-dabe-e0e841689851"
      },
      "execution_count": 145,
      "outputs": [
        {
          "output_type": "execute_result",
          "data": {
            "text/plain": [
              "0.8980042699340944"
            ]
          },
          "metadata": {},
          "execution_count": 145
        }
      ]
    },
    {
      "cell_type": "code",
      "source": [
        "# sklearn 교차검증 쉽게하기\n",
        "\n",
        "kfold = StratifiedKFold(n_splits=5)\n",
        "scores = cross_val_score(model, x, y, cv=3)\n",
        "scores.mean()\n"
      ],
      "metadata": {
        "colab": {
          "base_uri": "https://localhost:8080/"
        },
        "id": "Tcbse6bMLEmI",
        "outputId": "f9625050-582f-4405-9424-c437db797acb"
      },
      "execution_count": 146,
      "outputs": [
        {
          "output_type": "execute_result",
          "data": {
            "text/plain": [
              "0.8980042699340944"
            ]
          },
          "metadata": {},
          "execution_count": 146
        }
      ]
    },
    {
      "cell_type": "markdown",
      "source": [
        "평가 (분류)"
      ],
      "metadata": {
        "id": "AyKjiDwANPei"
      }
    },
    {
      "cell_type": "code",
      "source": [
        "# 정확도\n",
        "from sklearn.metrics import accuracy_score\n",
        "accuracy_score(y_test, pred)"
      ],
      "metadata": {
        "colab": {
          "base_uri": "https://localhost:8080/"
        },
        "id": "OKEhzQGiNRqn",
        "outputId": "cbf968ac-a81b-4d58-c26a-2fde1b09549f"
      },
      "execution_count": 147,
      "outputs": [
        {
          "output_type": "execute_result",
          "data": {
            "text/plain": [
              "0.9026548672566371"
            ]
          },
          "metadata": {},
          "execution_count": 147
        }
      ]
    },
    {
      "cell_type": "code",
      "source": [
        "# 정밀도\n",
        "from sklearn.metrics import precision_score\n",
        "precision_score(y_test, pred)"
      ],
      "metadata": {
        "colab": {
          "base_uri": "https://localhost:8080/"
        },
        "id": "DBxf57HxNeLY",
        "outputId": "f17f633e-0a68-4fd1-a403-d43ddad6dbc8"
      },
      "execution_count": 148,
      "outputs": [
        {
          "output_type": "execute_result",
          "data": {
            "text/plain": [
              "0.9545454545454546"
            ]
          },
          "metadata": {},
          "execution_count": 148
        }
      ]
    },
    {
      "cell_type": "code",
      "source": [
        "# 재현율\n",
        "from sklearn.metrics import recall_score\n",
        "recall_score(y_test, pred)"
      ],
      "metadata": {
        "colab": {
          "base_uri": "https://localhost:8080/"
        },
        "id": "R4JgpptPNqV3",
        "outputId": "6062f2c7-a365-41b2-f556-4f69b3f4e947"
      },
      "execution_count": 149,
      "outputs": [
        {
          "output_type": "execute_result",
          "data": {
            "text/plain": [
              "0.8873239436619719"
            ]
          },
          "metadata": {},
          "execution_count": 149
        }
      ]
    },
    {
      "cell_type": "code",
      "source": [
        "# f1\n",
        "from sklearn.metrics import f1_score\n",
        "f1_score(y_test, pred)"
      ],
      "metadata": {
        "colab": {
          "base_uri": "https://localhost:8080/"
        },
        "id": "AsX9a6VsN0Ea",
        "outputId": "b23d6e74-f0da-4803-bea8-81423c010ac9"
      },
      "execution_count": 150,
      "outputs": [
        {
          "output_type": "execute_result",
          "data": {
            "text/plain": [
              "0.9197080291970803"
            ]
          },
          "metadata": {},
          "execution_count": 150
        }
      ]
    },
    {
      "cell_type": "code",
      "source": [
        "# ROC_AUC\n",
        "from sklearn.metrics import roc_auc_score\n",
        "model = XGBClassifier(random_state=0)\n",
        "model.fit(x_train, y_train)\n",
        "pred = model.predict_proba(x_test)\n",
        "\n",
        "roc_auc_score(y_test, pred[:,1])"
      ],
      "metadata": {
        "colab": {
          "base_uri": "https://localhost:8080/"
        },
        "id": "cgu3OwrpN5SA",
        "outputId": "1d0809c8-c09e-4e73-e669-4625df88ad11"
      },
      "execution_count": 155,
      "outputs": [
        {
          "output_type": "execute_result",
          "data": {
            "text/plain": [
              "0.9983232729711603"
            ]
          },
          "metadata": {},
          "execution_count": 155
        }
      ]
    }
  ]
}