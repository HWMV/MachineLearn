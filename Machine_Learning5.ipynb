{
  "nbformat": 4,
  "nbformat_minor": 0,
  "metadata": {
    "colab": {
      "provenance": [],
      "authorship_tag": "ABX9TyOWwykBzCy5XjhKkFssrCwn",
      "include_colab_link": true
    },
    "kernelspec": {
      "name": "python3",
      "display_name": "Python 3"
    },
    "language_info": {
      "name": "python"
    }
  },
  "cells": [
    {
      "cell_type": "markdown",
      "metadata": {
        "id": "view-in-github",
        "colab_type": "text"
      },
      "source": [
        "<a href=\"https://colab.research.google.com/github/HWMV/Machine_Learning/blob/main/Machine_Learning5.ipynb\" target=\"_parent\"><img src=\"https://colab.research.google.com/assets/colab-badge.svg\" alt=\"Open In Colab\"/></a>"
      ]
    },
    {
      "cell_type": "code",
      "execution_count": 15,
      "metadata": {
        "id": "4LXXdewWVBlg"
      },
      "outputs": [],
      "source": [
        "import pandas as pd\n",
        "from sklearn.tree import DecisionTreeClassifier\n",
        "from sklearn.datasets import load_breast_cancer\n",
        "from sklearn.model_selection import train_test_split\n",
        "from sklearn.metrics import accuracy_score"
      ]
    },
    {
      "cell_type": "code",
      "source": [
        "# 데이터 세트 불러오기\n",
        "def make_dataset():\n",
        "    iris = load_breast_cancer()\n",
        "    df = pd.DataFrame(iris.data, columns=iris.feature_names)\n",
        "    df['target'] = iris.target\n",
        "    x_train, x_test, y_train, y_test = train_test_split(\n",
        "      df.drop('target', axis=1), df['target'], test_size=0.5,\n",
        "      random_state=1004\n",
        "    )\n",
        "    return x_train, x_test, y_train, y_test\n",
        "\n",
        "x_train, x_test, y_train, y_test = make_dataset()\n",
        "x_train.shape, x_test.shape, y_train.shape, y_test.shape"
      ],
      "metadata": {
        "colab": {
          "base_uri": "https://localhost:8080/"
        },
        "id": "Kq43_1s7V-38",
        "outputId": "731562ee-d622-45ab-8300-7c7d41c29bfc"
      },
      "execution_count": 22,
      "outputs": [
        {
          "output_type": "execute_result",
          "data": {
            "text/plain": [
              "((284, 30), (285, 30), (284,), (285,))"
            ]
          },
          "metadata": {},
          "execution_count": 22
        }
      ]
    },
    {
      "cell_type": "code",
      "source": [
        "# 타겟값 확인\n",
        "y_train.value_counts()"
      ],
      "metadata": {
        "colab": {
          "base_uri": "https://localhost:8080/"
        },
        "id": "2dXKo5k3bqXa",
        "outputId": "f03a4a82-dbb9-47d5-f8c4-432124580011"
      },
      "execution_count": 25,
      "outputs": [
        {
          "output_type": "execute_result",
          "data": {
            "text/plain": [
              "1    190\n",
              "0     94\n",
              "Name: target, dtype: int64"
            ]
          },
          "metadata": {},
          "execution_count": 25
        }
      ]
    },
    {
      "cell_type": "code",
      "source": [
        "# 모델 변수에 저장 (random_state 설정 필수)\n",
        "model = DecisionTreeClassifier(random_state=0)\n",
        "# 모델 학습 시키기\n",
        "model.fit(x_train, y_train)\n",
        "# 모델 예측 하기\n",
        "model.predict(x_test)\n",
        "# 예측한 값 한눈에 보_기 좋게 accuracy로 정확도 평가(확률)\n",
        "pred = model.predict(x_test)\n",
        "accuracy_score(y_test, pred)"
      ],
      "metadata": {
        "colab": {
          "base_uri": "https://localhost:8080/"
        },
        "id": "hkpk1k37VVRh",
        "outputId": "8a40e007-7660-424c-f50e-51a179fd6136"
      },
      "execution_count": 27,
      "outputs": [
        {
          "output_type": "execute_result",
          "data": {
            "text/plain": [
              "0.9263157894736842"
            ]
          },
          "metadata": {},
          "execution_count": 27
        }
      ]
    },
    {
      "cell_type": "markdown",
      "source": [
        "* criterion(기본값 gini) : 불순도 지표 (또는 엔트로피 불순도)\n",
        "* max_depth(기본값 None) : 최대 한도 깊이 트리의 하이퍼 파라미터 값의 튜닝을 많이 한다. 오버피팅 방지를 위한 제한하기 위함.\n",
        "* min_samples_split(기본값 2) : 자식 노드를 갖기 위한 최소한의 데이터 수\n",
        "* min_samples_leaf(기본값 1) : 리프 노드가 되기 위한 최소 샘플 수"
      ],
      "metadata": {
        "id": "weCEr6RWcs2D"
      }
    },
    {
      "cell_type": "code",
      "source": [
        "# # 모델 변수에 저장 (random_state 설정 필수)\n",
        "# model = DecisionTreeClassifier(max_depth= 4,\n",
        "#                                min_samples_leaf=2, # 정확도 조절 해보기\n",
        "#                                random_state=0) # max_depth 조건 줘보기\n",
        "# # max_depth = 5 이상은 정확도가 같다\n",
        "\n",
        "# # 모델 학습 시키기\n",
        "# model.fit(x_train, y_train)\n",
        "# # 모델 예측 하기\n",
        "# model.predict(x_test)\n",
        "# # 예측한 값 한눈에 보_기 좋게 accuracy로 정확도 평가(확률)\n",
        "# pred = model.predict(x_test)\n",
        "# accuracy_score(y_test, pred)"
      ],
      "metadata": {
        "colab": {
          "base_uri": "https://localhost:8080/"
        },
        "id": "q0eQ2jGFb2PD",
        "outputId": "4a9f0e43-0ceb-48c1-e6a7-4a0ba1a8b41b"
      },
      "execution_count": 30,
      "outputs": [
        {
          "output_type": "execute_result",
          "data": {
            "text/plain": [
              "0.9192982456140351"
            ]
          },
          "metadata": {},
          "execution_count": 30
        }
      ]
    },
    {
      "cell_type": "code",
      "source": [
        "# entropy 사용해보기\n",
        "# 모델 변수에 저장 (random_state 설정 필수)\n",
        "model = DecisionTreeClassifier(\n",
        "    criterion='entropy', # entropy 사용\n",
        "    max_depth=5,\n",
        "    min_samples_split=2,\n",
        "    min_samples_leaf=2,\n",
        "    random_state=0)     # 여러가지 조건들로 정확성을 높여보자! (튜닝 해나가는 것)\n",
        "\n",
        "# 모델 학습 시키기\n",
        "model.fit(x_train, y_train)\n",
        "# 모델 예측 하기\n",
        "model.predict(x_test)\n",
        "# 예측한 값 한눈에 보_기 좋게 accuracy로 정확도 평가(확률)\n",
        "pred = model.predict(x_test)\n",
        "accuracy_score(y_test, pred)"
      ],
      "metadata": {
        "colab": {
          "base_uri": "https://localhost:8080/"
        },
        "id": "cSzkWB0Edot8",
        "outputId": "89c95007-447c-415e-8094-d7734b65a6de"
      },
      "execution_count": 37,
      "outputs": [
        {
          "output_type": "execute_result",
          "data": {
            "text/plain": [
              "0.9403508771929825"
            ]
          },
          "metadata": {},
          "execution_count": 37
        }
      ]
    },
    {
      "cell_type": "markdown",
      "source": [
        "2. 랜덤포레스트\n",
        "* 지도학습 알고리즘(분류, 회귀)\n",
        "* 의사결정나무의 앙상블\n",
        "* 성능이 좋음\n",
        "* 부트스트랩 스트링 (데이터 셋 중복 허용)\n",
        "* 최종 다수결 투표\n",
        "* 앙상블\n",
        "  * 배깅 : 같은 알고리즘으로 여러 모델을 만들어 분류함\n",
        "  * 부스팅 : 학습과 예측을 하면서 가중치 반영(xgboost)"
      ],
      "metadata": {
        "id": "yVpSijJ0ivhH"
      }
    },
    {
      "cell_type": "code",
      "source": [
        "# 랜덤프레스트\n",
        "from sklearn.ensemble import RandomForestClassifier"
      ],
      "metadata": {
        "id": "WcpsCAm-io5A"
      },
      "execution_count": 39,
      "outputs": []
    },
    {
      "cell_type": "code",
      "source": [
        "model = RandomForestClassifier(random_state=0) # random_state로 정확도 고정\n",
        "model.fit(x_train, y_train)\n",
        "pred = model.predict(x_test)\n",
        "accuracy_score(y_test, pred) # 계속 실행할 수록 정확도 올라간다"
      ],
      "metadata": {
        "colab": {
          "base_uri": "https://localhost:8080/"
        },
        "id": "44_GOcU5jRPc",
        "outputId": "9c41f09a-2fab-499c-bc07-6cde6b1520aa"
      },
      "execution_count": 41,
      "outputs": [
        {
          "output_type": "execute_result",
          "data": {
            "text/plain": [
              "0.9508771929824561"
            ]
          },
          "metadata": {},
          "execution_count": 41
        }
      ]
    },
    {
      "cell_type": "markdown",
      "source": [
        "랜덤포레스트 하이퍼파라미터\n",
        "* n_estimators(기본값 100) : 트리의 수\n",
        "* crterion(기본값 gini) : 불순도 지표(엔트로피 포함)\n",
        "* max_depth(기본값 None) : 최대 한도 깊이\n",
        "* min_samples_split(기본값 2)\n",
        "* min_samples_leaf(기본값 1)"
      ],
      "metadata": {
        "id": "Jym4BX2oj7K1"
      }
    },
    {
      "cell_type": "code",
      "source": [
        "model = RandomForestClassifier(\n",
        "    n_estimators=200,\n",
        "    max_depth=3,\n",
        "    min_samples_split=10,\n",
        "    random_state=0) # random_state로 정확도 고정\n",
        "model.fit(x_train, y_train)\n",
        "pred = model.predict(x_test)\n",
        "accuracy_score(y_test, pred) # 계속 실행할 수록 정확도 올라간다\n",
        "\n",
        "# 정확도 결과\n",
        "# 0.9473684210526315 max_depth=3\n",
        "# 0.9508771929824561 min_samples_split=10"
      ],
      "metadata": {
        "colab": {
          "base_uri": "https://localhost:8080/"
        },
        "id": "msMf1lDPkWPp",
        "outputId": "acbe1fc1-fc2d-4622-d266-c4ed80388423"
      },
      "execution_count": 61,
      "outputs": [
        {
          "output_type": "execute_result",
          "data": {
            "text/plain": [
              "0.9508771929824561"
            ]
          },
          "metadata": {},
          "execution_count": 61
        }
      ]
    }
  ]
}