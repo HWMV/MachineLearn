{
 "cells": [
  {
   "cell_type": "code",
   "execution_count": 1,
   "id": "c5d52f87",
   "metadata": {},
   "outputs": [],
   "source": [
    "import pandas as pd\n",
    "import numpy as np # 결측값 예측을 위해선 numpy를 불러와야 한다"
   ]
  },
  {
   "cell_type": "code",
   "execution_count": 2,
   "id": "bfd8051c",
   "metadata": {},
   "outputs": [],
   "source": [
    "# m_list = ['양념치킨','후라이드','양반후반']\n",
    "\n",
    "# menu = pd.Series(m_list)\n",
    "# m_list"
   ]
  },
  {
   "cell_type": "code",
   "execution_count": 3,
   "id": "72c62767",
   "metadata": {},
   "outputs": [],
   "source": [
    "# p_list = ['13000','11000','12000']\n",
    "# price = pd.Series(p_list)\n",
    "\n",
    "# price"
   ]
  },
  {
   "cell_type": "code",
   "execution_count": 4,
   "id": "ad09262f",
   "metadata": {},
   "outputs": [],
   "source": [
    "# pd.DataFrame({\n",
    "#     '메뉴' : menu,\n",
    "#     '가격' : price\n",
    "# })"
   ]
  },
  {
   "cell_type": "code",
   "execution_count": 5,
   "id": "bf764af1",
   "metadata": {},
   "outputs": [
    {
     "name": "stdout",
     "output_type": "stream",
     "text": [
      "<class 'pandas.core.frame.DataFrame'>\n"
     ]
    }
   ],
   "source": [
    "data = {\n",
    "    \"메뉴\":['후라이드', '양념치킨', '간장치킨', '마늘치킨', '파닭', '닭강정', '양반후반'],\n",
    "    \"가격\":[12000, 13000, 14000, 14000, 14000, 15000, 13000],\n",
    "    \"호수\":['10호', '10호', '9호', '9호', '11호', '12호', '10호'],\n",
    "    \"칼로리\":[1000, 1400, 1600, 1800, 1300, 1500, 1300],\n",
    "}\n",
    "data = pd.DataFrame(data)\n",
    "data.to_csv('modudak.csv', index=False) # csv 파일로 생성하기. 인덱스 컬럼 지우기\n",
    "df = pd.read_csv('modudak.csv') # 변수 불러와서 데이터에 담기\n",
    "# [[YOUR CODE]]\n",
    "print(type(df)) # df 타입 확인"
   ]
  },
  {
   "cell_type": "code",
   "execution_count": 6,
   "id": "7dfe7331",
   "metadata": {},
   "outputs": [
    {
     "data": {
      "text/html": [
       "<div>\n",
       "<style scoped>\n",
       "    .dataframe tbody tr th:only-of-type {\n",
       "        vertical-align: middle;\n",
       "    }\n",
       "\n",
       "    .dataframe tbody tr th {\n",
       "        vertical-align: top;\n",
       "    }\n",
       "\n",
       "    .dataframe thead th {\n",
       "        text-align: right;\n",
       "    }\n",
       "</style>\n",
       "<table border=\"1\" class=\"dataframe\">\n",
       "  <thead>\n",
       "    <tr style=\"text-align: right;\">\n",
       "      <th></th>\n",
       "      <th>메뉴</th>\n",
       "      <th>가격</th>\n",
       "      <th>호수</th>\n",
       "      <th>칼로리</th>\n",
       "    </tr>\n",
       "  </thead>\n",
       "  <tbody>\n",
       "    <tr>\n",
       "      <th>0</th>\n",
       "      <td>후라이드</td>\n",
       "      <td>12000</td>\n",
       "      <td>10호</td>\n",
       "      <td>1000</td>\n",
       "    </tr>\n",
       "    <tr>\n",
       "      <th>1</th>\n",
       "      <td>양념치킨</td>\n",
       "      <td>13000</td>\n",
       "      <td>10호</td>\n",
       "      <td>1400</td>\n",
       "    </tr>\n",
       "    <tr>\n",
       "      <th>2</th>\n",
       "      <td>간장치킨</td>\n",
       "      <td>14000</td>\n",
       "      <td>9호</td>\n",
       "      <td>1600</td>\n",
       "    </tr>\n",
       "    <tr>\n",
       "      <th>3</th>\n",
       "      <td>마늘치킨</td>\n",
       "      <td>14000</td>\n",
       "      <td>9호</td>\n",
       "      <td>1800</td>\n",
       "    </tr>\n",
       "    <tr>\n",
       "      <th>4</th>\n",
       "      <td>파닭</td>\n",
       "      <td>14000</td>\n",
       "      <td>11호</td>\n",
       "      <td>1300</td>\n",
       "    </tr>\n",
       "    <tr>\n",
       "      <th>5</th>\n",
       "      <td>닭강정</td>\n",
       "      <td>15000</td>\n",
       "      <td>12호</td>\n",
       "      <td>1500</td>\n",
       "    </tr>\n",
       "  </tbody>\n",
       "</table>\n",
       "</div>"
      ],
      "text/plain": [
       "     메뉴     가격   호수   칼로리\n",
       "0  후라이드  12000  10호  1000\n",
       "1  양념치킨  13000  10호  1400\n",
       "2  간장치킨  14000   9호  1600\n",
       "3  마늘치킨  14000   9호  1800\n",
       "4    파닭  14000  11호  1300\n",
       "5   닭강정  15000  12호  1500"
      ]
     },
     "execution_count": 6,
     "metadata": {},
     "output_type": "execute_result"
    }
   ],
   "source": [
    "df.head(6) #df 샘플 위부터 5개 확인, (n) n개 확인"
   ]
  },
  {
   "cell_type": "code",
   "execution_count": null,
   "id": "2d8023aa",
   "metadata": {},
   "outputs": [],
   "source": [
    "df.tail() # df샘플 아래에서 5개"
   ]
  },
  {
   "cell_type": "code",
   "execution_count": null,
   "id": "6926634a",
   "metadata": {},
   "outputs": [],
   "source": [
    "df.to_csv('test.csv') # 데이터 csv파일로 저장하기"
   ]
  },
  {
   "cell_type": "code",
   "execution_count": null,
   "id": "64e51717",
   "metadata": {},
   "outputs": [],
   "source": [
    "pd.read_csv('test.csv')"
   ]
  },
  {
   "cell_type": "code",
   "execution_count": null,
   "id": "cd63a4ce",
   "metadata": {},
   "outputs": [],
   "source": [
    "df['메뉴'] # df.메뉴 도 같은 형태 # 시리즈 선택(메뉴열)"
   ]
  },
  {
   "cell_type": "code",
   "execution_count": null,
   "id": "6ab843dd",
   "metadata": {},
   "outputs": [],
   "source": [
    "# 데이터프레임 선택( 메뉴, 가격 )\n",
    "df[['메뉴','가격']]"
   ]
  },
  {
   "cell_type": "code",
   "execution_count": null,
   "id": "1395aaa8",
   "metadata": {},
   "outputs": [],
   "source": [
    "# 행 선택\n",
    "df['가격'] >= 14000"
   ]
  },
  {
   "cell_type": "code",
   "execution_count": null,
   "id": "94e35a9c",
   "metadata": {},
   "outputs": [],
   "source": [
    "# 14000원 보다 큰 가격 데이터 선택\n",
    "cond = df['가격'] >= 14000 # 행 조건 선택\n",
    "df[cond] # 출력\n"
   ]
  },
  {
   "cell_type": "code",
   "execution_count": null,
   "id": "6075a583",
   "metadata": {},
   "outputs": [],
   "source": [
    "# 조건 2개 이상 일?때(AND)\n",
    "# 가격 >= 14000\n",
    "# 호수 == 9호\n",
    "cond1 = df['가격'] >=14000\n",
    "cond2 = df['호수'] == '9호'\n",
    "df[cond1 & cond2]"
   ]
  },
  {
   "cell_type": "code",
   "execution_count": null,
   "id": "10ea1a6d",
   "metadata": {},
   "outputs": [],
   "source": [
    "# 조건 2개 이상 일?때 (or)\n",
    "# 가격 >= 14000\n",
    "# 호수 == 9호\n",
    "cond1 = df['가격'] >=14000\n",
    "cond2 = df['호수'] == '9호'\n",
    "df[cond1 | cond2]"
   ]
  },
  {
   "cell_type": "code",
   "execution_count": null,
   "id": "5d1f3eda",
   "metadata": {},
   "outputs": [],
   "source": [
    "# isin() 함수 활용\n",
    "cond = df['호수'].isin(['9호','10호'])\n",
    "df[cond]"
   ]
  },
  {
   "cell_type": "code",
   "execution_count": null,
   "id": "0ebe5c26",
   "metadata": {},
   "outputs": [],
   "source": [
    "#index 명 임의 변경\n",
    "df['index'] = ['a','b','c','d','e','f','g']\n",
    "df = df.set_index(['index'])\n",
    "df"
   ]
  },
  {
   "cell_type": "code",
   "execution_count": null,
   "id": "f867f2f1",
   "metadata": {},
   "outputs": [],
   "source": [
    "# 인덱싱(행 전체)\n",
    "# loc 인덱스 명, 컬럼 명\n",
    "df.loc['a']"
   ]
  },
  {
   "cell_type": "code",
   "execution_count": null,
   "id": "6f5ddd4d",
   "metadata": {},
   "outputs": [],
   "source": [
    "# 슬라이싱 (컬럼 전체)\n",
    "# 가격\n",
    "df.loc[:,'가격']"
   ]
  },
  {
   "cell_type": "code",
   "execution_count": null,
   "id": "3fd7da8a",
   "metadata": {},
   "outputs": [],
   "source": [
    "# 슬라이싱 메뉴와 가격\n",
    "df.loc['c','메뉴':'가격']"
   ]
  },
  {
   "cell_type": "code",
   "execution_count": null,
   "id": "83a5e6e1",
   "metadata": {},
   "outputs": [],
   "source": [
    "# 슬라이싱 메뉴와 칼로리(컬럼이 떨어져 있는 경우)\n",
    "df.loc['c',['메뉴','칼로리']]"
   ]
  },
  {
   "cell_type": "code",
   "execution_count": null,
   "id": "f4a84a65",
   "metadata": {},
   "outputs": [],
   "source": [
    "df.loc['b':'c','메뉴':'가격']"
   ]
  },
  {
   "cell_type": "code",
   "execution_count": null,
   "id": "d6290b56",
   "metadata": {},
   "outputs": [],
   "source": [
    "# iloc는 인덱스의 숫자를 활용해서 출력"
   ]
  },
  {
   "cell_type": "code",
   "execution_count": null,
   "id": "eb905127",
   "metadata": {},
   "outputs": [],
   "source": [
    "df"
   ]
  },
  {
   "cell_type": "code",
   "execution_count": null,
   "id": "8548aa86",
   "metadata": {},
   "outputs": [],
   "source": [
    "# 인덱스 명 변경\n",
    "df = df.set_index(keys=['메뉴'])\n",
    "df"
   ]
  },
  {
   "cell_type": "code",
   "execution_count": null,
   "id": "19154ce7",
   "metadata": {},
   "outputs": [],
   "source": [
    "#loc 슬라이싱\n",
    "# 양념에서 마늘까지 호수에서 칼로리까지\n",
    "df.loc['양념치킨':'마늘치킨','호수':'칼로리']"
   ]
  },
  {
   "cell_type": "code",
   "execution_count": null,
   "id": "a6ace32e",
   "metadata": {},
   "outputs": [],
   "source": [
    "# iloc 슬라이싱\n",
    "# 위와 같이\n",
    "df.iloc[1:4,1:]"
   ]
  },
  {
   "cell_type": "code",
   "execution_count": null,
   "id": "18f9d5ef",
   "metadata": {},
   "outputs": [],
   "source": [
    "df"
   ]
  },
  {
   "cell_type": "code",
   "execution_count": null,
   "id": "c39cf5df",
   "metadata": {},
   "outputs": [],
   "source": [
    "# 할인율 0.2 칼럼 추가\n",
    "df['할인율'] = 0.2\n",
    "df"
   ]
  },
  {
   "cell_type": "code",
   "execution_count": null,
   "id": "c5b7994d",
   "metadata": {},
   "outputs": [],
   "source": [
    "# 할인율 계산한 할인가 컬럼 생성\n",
    "df['할인가'] = df['가격'] * (1-df['할인율'])\n",
    "df"
   ]
  },
  {
   "cell_type": "code",
   "execution_count": null,
   "id": "bfbb41d6",
   "metadata": {},
   "outputs": [],
   "source": [
    "# 결측값 추가, 원산지 컬럼을 생성하고 결측값(NaN) 대입\n",
    "df['원산지'] = np.nan\n",
    "df"
   ]
  },
  {
   "cell_type": "code",
   "execution_count": null,
   "id": "d25b5ec6",
   "metadata": {},
   "outputs": [],
   "source": [
    "# 리스트 형태로 데이터(행) 추가\n",
    "aiffel = ['아이펠치킨',16000,'11호',1200,0.5,8000,'국내산']\n",
    "df.loc['new'] = aiffel\n",
    "df"
   ]
  },
  {
   "cell_type": "code",
   "execution_count": null,
   "id": "33515827",
   "metadata": {},
   "outputs": [],
   "source": [
    "# 딕셔너리 형태로 데이터(행) 추가\n",
    "flip = {'메뉴':'풀잎치킨','가격':10000,'호수':'10호','원산지':'국내산'}\n",
    "df.loc[10] = flip\n",
    "df"
   ]
  },
  {
   "cell_type": "code",
   "execution_count": null,
   "id": "79d27297",
   "metadata": {},
   "outputs": [],
   "source": [
    "# 후라이드 원산지 '국내산' 값 추가(loc)\n",
    "df.loc[0,'원산지'] = '국내산'\n",
    "df"
   ]
  },
  {
   "cell_type": "code",
   "execution_count": null,
   "id": "ad105550",
   "metadata": {},
   "outputs": [],
   "source": [
    "# 파닭과 닭강정의 원산지 '브라질' 값 추가 (iloc)\n",
    "df.iloc[4,-1] = '브라질'\n",
    "df.iloc[5,-1] = '브라질'\n",
    "df"
   ]
  },
  {
   "cell_type": "code",
   "execution_count": null,
   "id": "92ab5c78",
   "metadata": {},
   "outputs": [],
   "source": [
    "# replace 활용(양반후반 > 양념반후라이드반)\n",
    "df = df.replace('양반후반','양념반후라이드반')\n",
    "df"
   ]
  },
  {
   "cell_type": "code",
   "execution_count": null,
   "id": "cae01645",
   "metadata": {},
   "outputs": [],
   "source": [
    "# replace 활용 (아이펠 치킨 >[인기]아이펠치킨, 풀잎치킨 > [베스트]풀잎치킨])\n",
    "# 2개 동시에 바꾸기\n",
    "df.replace('아이펠치킨','[인기]아이펠치킨').replace('풀잎치킨','[베스트]풀잎치킨')"
   ]
  },
  {
   "cell_type": "code",
   "execution_count": null,
   "id": "76988ab1",
   "metadata": {},
   "outputs": [],
   "source": [
    "# replace, 딕셔너리 활용 (후라이드 > 황금후라이드, 양념치킨 > 모두양념치킨)\n",
    "d = {'후라이드':'황금후라이드','양념치킨':'모두양념치킨'}\n",
    "\n",
    "df = df.replace(d)\n",
    "df"
   ]
  },
  {
   "cell_type": "code",
   "execution_count": null,
   "id": "48171211",
   "metadata": {},
   "outputs": [],
   "source": [
    "# 숫자 변경\n",
    "\n",
    "df = df.replace(10000, 9900)\n",
    "df"
   ]
  },
  {
   "cell_type": "code",
   "execution_count": null,
   "id": "413377e9",
   "metadata": {},
   "outputs": [],
   "source": [
    "# new_modudak.csv로 저장\n",
    "df.to_csv('new_modudak.csv')"
   ]
  },
  {
   "cell_type": "code",
   "execution_count": null,
   "id": "24c27f90",
   "metadata": {},
   "outputs": [],
   "source": []
  }
 ],
 "metadata": {
  "kernelspec": {
   "display_name": "Python 3 (ipykernel)",
   "language": "python",
   "name": "python3"
  },
  "language_info": {
   "codemirror_mode": {
    "name": "ipython",
    "version": 3
   },
   "file_extension": ".py",
   "mimetype": "text/x-python",
   "name": "python",
   "nbconvert_exporter": "python",
   "pygments_lexer": "ipython3",
   "version": "3.9.7"
  }
 },
 "nbformat": 4,
 "nbformat_minor": 5
}
