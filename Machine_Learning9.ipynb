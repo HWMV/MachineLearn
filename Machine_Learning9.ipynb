{
  "nbformat": 4,
  "nbformat_minor": 0,
  "metadata": {
    "colab": {
      "provenance": [],
      "authorship_tag": "ABX9TyNiKV1XZQwj+aT3w5msbjNq",
      "include_colab_link": true
    },
    "kernelspec": {
      "name": "python3",
      "display_name": "Python 3"
    },
    "language_info": {
      "name": "python"
    }
  },
  "cells": [
    {
      "cell_type": "markdown",
      "metadata": {
        "id": "view-in-github",
        "colab_type": "text"
      },
      "source": [
        "<a href=\"https://colab.research.google.com/github/HWMV/Machine_Learning/blob/main/Machine_Learning9.ipynb\" target=\"_parent\"><img src=\"https://colab.research.google.com/assets/colab-badge.svg\" alt=\"Open In Colab\"/></a>"
      ]
    },
    {
      "cell_type": "markdown",
      "source": [
        "## 머신러닝을 통한 이미지 처리\n",
        "1. 딥러닝\n",
        "  * 뇌의 뉴런과 유사한 머신러닝 알고리즘 (인공신경망 구축)\n",
        "  * 심층 신경망 (DNN, Deep Neural Network)\n",
        "  * 입력층 - 은닉층 - 출력층\n",
        "\n",
        "  **언더피팅과 오버피팅**\n",
        "  * 딥러닝은 오버피팅이 많이 된다\n",
        "  * Validation 함수에서 loss가 올라가는 지점 부터 오버피팅(과대적합) : 이 지점을 찾아 멈춰줘야 한다\n",
        "\n",
        "  **에폭(Epoch)**\n",
        "\n",
        "\n",
        "  [딥러닝의 학습 과정]\n",
        "* 순전파 : 예측갑 계산\n",
        "* 손실함수 : 오차 측정\n",
        "* 옵티마이저(최적화) : 경사하강법\n",
        "* 역전파 : 가중치 조절\n",
        "\n",
        "**TensorFlow 활용**\n",
        "* 딥러닝을 좀 더 쉽게 적용하기 위한 Lib\n",
        "* 구글팀에서 공개\n",
        "* 고수준 API 지원 (keras)\n",
        "* 자동 미분"
      ],
      "metadata": {
        "id": "WCjdcQV7UlWF"
      }
    },
    {
      "cell_type": "markdown",
      "source": [
        "2. 이미지 분류\n",
        "**Mnist** (손으로 쓴 숫자들로 이루어진 대형 DB)\n",
        "* 흑백\n",
        "* 28x28 픽셀\n",
        "\n",
        "**Fashion-Mnist** (의류 이미지 분류)\n",
        "* 10개 클래스\n",
        "* 그레이\n",
        "* 28x28 픽셀"
      ],
      "metadata": {
        "id": "-Mwuzv-1YlIx"
      }
    },
    {
      "cell_type": "code",
      "source": [
        "# 이미지 분류\n",
        "# 라이브러리 호출\n",
        "from tensorflow.keras.models import Sequential\n",
        "from tensorflow.keras.layers import Flatten, Dense\n",
        "\n",
        "# Sequential 모델 (레이어 쌓는 모델)\n",
        "model = Sequential([\n",
        "    # input 데이터(28,28)을 1행으로 풀어줌(784)\n",
        "    Flatten(input_shape=(28,28)),\n",
        "\n",
        "    # 완전 연결 hidden layer : 128개듸 뉴런\n",
        "    # 활성화함수(activation) : relu 는 0보다 작을 땐 0, 클때부터 x 값 출력하는 활성화함수\n",
        "    Dense(units=128, activation='relu'),\n",
        "\n",
        "    # 라스트 출력 layer : 10개\n",
        "    # 활성화함수(activation) : softmax 는 확습된 데이터의 확률 중 가장 높은 것 선택하는 활성화함수\n",
        "    Dense(units=10, activation='softmax') # 라스트 출력 layer : 10개\n",
        "])"
      ],
      "metadata": {
        "id": "YRDYdzYIZU3i"
      },
      "execution_count": null,
      "outputs": []
    },
    {
      "cell_type": "code",
      "source": [
        "# 모델 컴파일(compile 함수활용) : 어떤 식으로 엮어서 학습 시킬 건지 설정\n",
        "# adam : 최적화 기법(알고리즘), momentum +\n",
        "# momentum : 최적화 기법 중 경사하강법에 관성을 부여하는 기법, 이전 기울기를 기억해 Local Minium(기울기 0 변곡점)에서 추가로 이동할 수 있게 해준다\n",
        "# RMSProp : 최적화 기법, 기울기를 지수이동평균(EMA)를 활용하여, time별 기울기를 효율적 적용한다\n",
        "# 지수이동평균(EMA) : 가증 승수를 이용하여 계산 (최근 데이터에 가중치를 높게 부여)\n",
        "\n",
        "# 1. optimizer adam\n",
        "model.compile(optimizer='adam',\n",
        "\n",
        "              # 2. loss 함수는 다중 분류여서 sparse_categorical_crossentoropy 활용\n",
        "              loss='sparse_categorical_crossentoropy',\n",
        "\n",
        "              # 3. 행렬구조는 accuracy\n",
        "              metrics=['accuracy'])\n"
      ],
      "metadata": {
        "id": "lEWuef8Obhpk"
      },
      "execution_count": null,
      "outputs": []
    },
    {
      "cell_type": "code",
      "source": [
        "# epoch (compile 후 학습 진행)\n",
        "\n",
        "# 전체 데이터를 5번 epoch(학습)\n",
        "model.fit(x_train, y_train, epoch=5)"
      ],
      "metadata": {
        "id": "WUc6IzpPfQpW"
      },
      "execution_count": null,
      "outputs": []
    },
    {
      "cell_type": "code",
      "source": [],
      "metadata": {
        "id": "tW30ZWmif3tM"
      },
      "execution_count": null,
      "outputs": []
    }
  ]
}