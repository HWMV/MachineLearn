{
  "nbformat": 4,
  "nbformat_minor": 0,
  "metadata": {
    "colab": {
      "provenance": [],
      "authorship_tag": "ABX9TyNmHW8a+gY3DKWdknLMkvKR",
      "include_colab_link": true
    },
    "kernelspec": {
      "name": "python3",
      "display_name": "Python 3"
    },
    "language_info": {
      "name": "python"
    }
  },
  "cells": [
    {
      "cell_type": "markdown",
      "metadata": {
        "id": "view-in-github",
        "colab_type": "text"
      },
      "source": [
        "<a href=\"https://colab.research.google.com/github/HWMV/Machine_Learning/blob/main/Machine_Learning9.ipynb\" target=\"_parent\"><img src=\"https://colab.research.google.com/assets/colab-badge.svg\" alt=\"Open In Colab\"/></a>"
      ]
    },
    {
      "cell_type": "markdown",
      "source": [
        "## 머신러닝을 통한 이미지 처리\n",
        "1. 딥러닝\n",
        "  * 뇌의 뉴런과 유사한 머신러닝 알고리즘 (인공신경망 구축)\n",
        "  * 심층 신경망 (DNN, Deep Neural Network)\n",
        "  * 입력층 - 은닉층 - 출력층\n",
        "\n",
        "  **언더피팅과 오버피팅**\n",
        "  * 딥러닝은 오버피팅이 많이 된다\n",
        "  * Validation 함수에서 loss가 올라가는 지점 부터 오버피팅(과대적합) : 이 지점을 찾아 멈춰줘야 한다\n",
        "\n",
        "  **에폭(Epoch)**\n",
        "\n",
        "\n",
        "  [딥러닝의 학습 과정]\n",
        "* 순전파 : 예측갑 계산\n",
        "* 손실함수 : 오차 측정\n",
        "* 옵티마이저(최적화) : 경사하강법\n",
        "* 역전파 : 가중치 조절\n",
        "\n",
        "**TensorFlow 활용**\n",
        "* 딥러닝을 좀 더 쉽게 적용하기 위한 Lib\n",
        "* 구글팀에서 공개\n",
        "* 고수준 API 지원 (keras)\n",
        "* 자동 미분"
      ],
      "metadata": {
        "id": "WCjdcQV7UlWF"
      }
    },
    {
      "cell_type": "markdown",
      "source": [
        "2. 이미지 분류\n",
        "**Mnist** (손으로 쓴 숫자들로 이루어진 대형 DB)\n",
        "* 흑백\n",
        "* 28x28 픽셀\n",
        "\n",
        "**Fashion-Mnist** (의류 이미지 분류)\n",
        "* 10개 클래스\n",
        "* 그레이\n",
        "* 28x28 픽셀"
      ],
      "metadata": {
        "id": "-Mwuzv-1YlIx"
      }
    },
    {
      "cell_type": "code",
      "source": [
        "# 이미지 분류\n",
        "# 라이브러리 호출\n",
        "from tensorflow.keras.models import Sequential\n",
        "from tensorflow.keras.layers import Flatten, Dense\n",
        "\n",
        "# Sequential 모델 (레이어 쌓는 모델)\n",
        "model = Sequential([\n",
        "    # input 데이터(28,28)을 1행으로 풀어줌(784)\n",
        "    Flatten(input_shape=(28,28)),\n",
        "\n",
        "    # 완전 연결 hidden layer : 128개듸 뉴런\n",
        "    # 활성화함수(activation) : relu 는 0보다 작을 땐 0, 클때부터 x 값 출력하는 활성화함수\n",
        "    Dense(units=128, activation='relu'),\n",
        "\n",
        "    # 라스트 출력 layer : 10개\n",
        "    # 활성화함수(activation) : softmax 는 확습된 데이터의 확률 중 가장 높은 것 선택하는 활성화함수\n",
        "    Dense(units=10, activation='softmax') # 라스트 출력 layer : 10개\n",
        "])"
      ],
      "metadata": {
        "id": "YRDYdzYIZU3i"
      },
      "execution_count": 29,
      "outputs": []
    },
    {
      "cell_type": "code",
      "source": [
        "# 모델 컴파일(compile 함수활용) : 어떤 식으로 엮어서 학습 시킬 건지 설정\n",
        "# adam : 최적화 기법(알고리즘), momentum +\n",
        "# momentum : 최적화 기법 중 경사하강법에 관성을 부여하는 기법, 이전 기울기를 기억해 Local Minium(기울기 0 변곡점)에서 추가로 이동할 수 있게 해준다\n",
        "# RMSProp : 최적화 기법, 기울기를 지수이동평균(EMA)를 활용하여, time별 기울기를 효율적 적용한다\n",
        "# 지수이동평균(EMA) : 가증 승수를 이용하여 계산 (최근 데이터에 가중치를 높게 부여)\n",
        "\n",
        "# 1. optimizer adam\n",
        "model.compile(optimizer='adam',\n",
        "\n",
        "              # 2. loss 함수는 다중 분류여서 sparse_categorical_crossentoropy 활용\n",
        "              loss='sparse_categorical_crossentoropy',\n",
        "\n",
        "              # 3. 행렬구조는 accuracy\n",
        "              metrics=['accuracy'])\n"
      ],
      "metadata": {
        "id": "lEWuef8Obhpk"
      },
      "execution_count": 30,
      "outputs": []
    },
    {
      "cell_type": "code",
      "source": [
        "# epoch (compile 후 학습 진행)\n",
        "\n",
        "# 전체 데이터를 5번 epoch(학습)\n",
        "# model.fit(x_train, y_train, epoch=5)"
      ],
      "metadata": {
        "id": "WUc6IzpPfQpW"
      },
      "execution_count": 31,
      "outputs": []
    },
    {
      "cell_type": "markdown",
      "source": [
        "### **이미지 분류 실습**\n",
        "\n",
        "**mnist data**"
      ],
      "metadata": {
        "id": "7ViZlpwyf-7J"
      }
    },
    {
      "cell_type": "code",
      "source": [
        "# 라이브러리 호출\n",
        "import tensorflow as tf\n",
        "import matplotlib.pyplot as plt"
      ],
      "metadata": {
        "id": "tW30ZWmif3tM"
      },
      "execution_count": 32,
      "outputs": []
    },
    {
      "cell_type": "code",
      "source": [
        "# version\n",
        "tf.__version__"
      ],
      "metadata": {
        "colab": {
          "base_uri": "https://localhost:8080/",
          "height": 36
        },
        "id": "XAsTG3FsgZWb",
        "outputId": "ba582a63-e88b-4489-ad73-f5955777ef23"
      },
      "execution_count": 33,
      "outputs": [
        {
          "output_type": "execute_result",
          "data": {
            "text/plain": [
              "'2.13.0'"
            ],
            "application/vnd.google.colaboratory.intrinsic+json": {
              "type": "string"
            }
          },
          "metadata": {},
          "execution_count": 33
        }
      ]
    },
    {
      "cell_type": "code",
      "source": [
        "# 데이터 셋 호출\n",
        "mnist = tf.keras.datasets.mnist\n",
        "(x_train, y_train), (x_test, y_test) = mnist.load_data()"
      ],
      "metadata": {
        "id": "EIuxpYdHggiK"
      },
      "execution_count": 34,
      "outputs": []
    },
    {
      "cell_type": "code",
      "source": [
        "# 데이터 크기\n",
        "(x_train.shape, y_train.shape, x_test.shape, y_test.shape)"
      ],
      "metadata": {
        "colab": {
          "base_uri": "https://localhost:8080/"
        },
        "id": "DXRaGB4Ng8cF",
        "outputId": "aeb42c91-10b9-42a6-ff60-a031348699a5"
      },
      "execution_count": 35,
      "outputs": [
        {
          "output_type": "execute_result",
          "data": {
            "text/plain": [
              "((60000, 28, 28), (60000,), (10000, 28, 28), (10000,))"
            ]
          },
          "metadata": {},
          "execution_count": 35
        }
      ]
    },
    {
      "cell_type": "code",
      "source": [
        "# 데이터 확인\n",
        "import numpy as np\n",
        "np.set_printoptions(linewidth=120)\n",
        "print(x_train[0])"
      ],
      "metadata": {
        "colab": {
          "base_uri": "https://localhost:8080/"
        },
        "id": "-QdeIrB9jstM",
        "outputId": "aac9d7da-ac49-41b9-9f2d-0b054facd4fe"
      },
      "execution_count": 36,
      "outputs": [
        {
          "output_type": "stream",
          "name": "stdout",
          "text": [
            "[[  0   0   0   0   0   0   0   0   0   0   0   0   0   0   0   0   0   0   0   0   0   0   0   0   0   0   0   0]\n",
            " [  0   0   0   0   0   0   0   0   0   0   0   0   0   0   0   0   0   0   0   0   0   0   0   0   0   0   0   0]\n",
            " [  0   0   0   0   0   0   0   0   0   0   0   0   0   0   0   0   0   0   0   0   0   0   0   0   0   0   0   0]\n",
            " [  0   0   0   0   0   0   0   0   0   0   0   0   0   0   0   0   0   0   0   0   0   0   0   0   0   0   0   0]\n",
            " [  0   0   0   0   0   0   0   0   0   0   0   0   0   0   0   0   0   0   0   0   0   0   0   0   0   0   0   0]\n",
            " [  0   0   0   0   0   0   0   0   0   0   0   0   3  18  18  18 126 136 175  26 166 255 247 127   0   0   0   0]\n",
            " [  0   0   0   0   0   0   0   0  30  36  94 154 170 253 253 253 253 253 225 172 253 242 195  64   0   0   0   0]\n",
            " [  0   0   0   0   0   0   0  49 238 253 253 253 253 253 253 253 253 251  93  82  82  56  39   0   0   0   0   0]\n",
            " [  0   0   0   0   0   0   0  18 219 253 253 253 253 253 198 182 247 241   0   0   0   0   0   0   0   0   0   0]\n",
            " [  0   0   0   0   0   0   0   0  80 156 107 253 253 205  11   0  43 154   0   0   0   0   0   0   0   0   0   0]\n",
            " [  0   0   0   0   0   0   0   0   0  14   1 154 253  90   0   0   0   0   0   0   0   0   0   0   0   0   0   0]\n",
            " [  0   0   0   0   0   0   0   0   0   0   0 139 253 190   2   0   0   0   0   0   0   0   0   0   0   0   0   0]\n",
            " [  0   0   0   0   0   0   0   0   0   0   0  11 190 253  70   0   0   0   0   0   0   0   0   0   0   0   0   0]\n",
            " [  0   0   0   0   0   0   0   0   0   0   0   0  35 241 225 160 108   1   0   0   0   0   0   0   0   0   0   0]\n",
            " [  0   0   0   0   0   0   0   0   0   0   0   0   0  81 240 253 253 119  25   0   0   0   0   0   0   0   0   0]\n",
            " [  0   0   0   0   0   0   0   0   0   0   0   0   0   0  45 186 253 253 150  27   0   0   0   0   0   0   0   0]\n",
            " [  0   0   0   0   0   0   0   0   0   0   0   0   0   0   0  16  93 252 253 187   0   0   0   0   0   0   0   0]\n",
            " [  0   0   0   0   0   0   0   0   0   0   0   0   0   0   0   0   0 249 253 249  64   0   0   0   0   0   0   0]\n",
            " [  0   0   0   0   0   0   0   0   0   0   0   0   0   0  46 130 183 253 253 207   2   0   0   0   0   0   0   0]\n",
            " [  0   0   0   0   0   0   0   0   0   0   0   0  39 148 229 253 253 253 250 182   0   0   0   0   0   0   0   0]\n",
            " [  0   0   0   0   0   0   0   0   0   0  24 114 221 253 253 253 253 201  78   0   0   0   0   0   0   0   0   0]\n",
            " [  0   0   0   0   0   0   0   0  23  66 213 253 253 253 253 198  81   2   0   0   0   0   0   0   0   0   0   0]\n",
            " [  0   0   0   0   0   0  18 171 219 253 253 253 253 195  80   9   0   0   0   0   0   0   0   0   0   0   0   0]\n",
            " [  0   0   0   0  55 172 226 253 253 253 253 244 133  11   0   0   0   0   0   0   0   0   0   0   0   0   0   0]\n",
            " [  0   0   0   0 136 253 253 253 212 135 132  16   0   0   0   0   0   0   0   0   0   0   0   0   0   0   0   0]\n",
            " [  0   0   0   0   0   0   0   0   0   0   0   0   0   0   0   0   0   0   0   0   0   0   0   0   0   0   0   0]\n",
            " [  0   0   0   0   0   0   0   0   0   0   0   0   0   0   0   0   0   0   0   0   0   0   0   0   0   0   0   0]\n",
            " [  0   0   0   0   0   0   0   0   0   0   0   0   0   0   0   0   0   0   0   0   0   0   0   0   0   0   0   0]]\n"
          ]
        }
      ]
    },
    {
      "cell_type": "code",
      "source": [
        "# 데이터 확인 (이미지)\n",
        "plt.imshow(x_train[0])\n"
      ],
      "metadata": {
        "colab": {
          "base_uri": "https://localhost:8080/",
          "height": 448
        },
        "id": "uZwlaR9wj44G",
        "outputId": "ceeb2bda-6af3-407e-ce00-9be15b96af2b"
      },
      "execution_count": 37,
      "outputs": [
        {
          "output_type": "execute_result",
          "data": {
            "text/plain": [
              "<matplotlib.image.AxesImage at 0x78651d7e6dd0>"
            ]
          },
          "metadata": {},
          "execution_count": 37
        },
        {
          "output_type": "display_data",
          "data": {
            "text/plain": [
              "<Figure size 640x480 with 1 Axes>"
            ],
            "image/png": "[encoded data removed]"
          },
          "metadata": {}
        }
      ]
    },
    {
      "cell_type": "code",
      "source": [
        "# label 확인\n",
        "y_train[0]  # 매칭 Ok"
      ],
      "metadata": {
        "colab": {
          "base_uri": "https://localhost:8080/"
        },
        "id": "vcXIMmzSkUXd",
        "outputId": "1b7f8bcc-2298-46dd-9b48-bd9644701b6d"
      },
      "execution_count": 38,
      "outputs": [
        {
          "output_type": "execute_result",
          "data": {
            "text/plain": [
              "5"
            ]
          },
          "metadata": {},
          "execution_count": 38
        }
      ]
    },
    {
      "cell_type": "code",
      "source": [
        "from keras.src.activations import activation_layers\n",
        "# 모델 만들기\n",
        "from tensorflow.keras.layers import Flatten, Dense\n",
        "from tensorflow.keras.models import Sequential\n",
        "\n",
        "model = Sequential([\n",
        "    # 2차원 데이터를 1차원으로 변경\n",
        "    Flatten(input_shape=(28,28)),\n",
        "    Dense(256, activation='relu'),\n",
        "\n",
        "    # 10개 중에서 총 합이 1 안에서 확률값으로 출력\n",
        "    Dense(10, activation='softmax')\n",
        "])"
      ],
      "metadata": {
        "id": "Fg4e-yovkboD"
      },
      "execution_count": 39,
      "outputs": []
    },
    {
      "cell_type": "code",
      "source": [
        "# 모델 요약\n",
        "model.summary()"
      ],
      "metadata": {
        "colab": {
          "base_uri": "https://localhost:8080/"
        },
        "id": "mC8mbla0lBq4",
        "outputId": "1de540f8-6e91-4915-d8d7-8ceb47783fa5"
      },
      "execution_count": 40,
      "outputs": [
        {
          "output_type": "stream",
          "name": "stdout",
          "text": [
            "Model: \"sequential_4\"\n",
            "_________________________________________________________________\n",
            " Layer (type)                Output Shape              Param #   \n",
            "=================================================================\n",
            " flatten_4 (Flatten)         (None, 784)               0         \n",
            "                                                                 \n",
            " dense_8 (Dense)             (None, 256)               200960    \n",
            "                                                                 \n",
            " dense_9 (Dense)             (None, 10)                2570      \n",
            "                                                                 \n",
            "=================================================================\n",
            "Total params: 203530 (795.04 KB)\n",
            "Trainable params: 203530 (795.04 KB)\n",
            "Non-trainable params: 0 (0.00 Byte)\n",
            "_________________________________________________________________\n"
          ]
        }
      ]
    },
    {
      "cell_type": "code",
      "source": [
        "# 모델 컴파일(optimizer, loss, metrics 설정)\n",
        "model.compile(optimizer='adam',\n",
        "              loss='sparse_categorical_crossentropy',\n",
        "              metrics=['accuracy'])"
      ],
      "metadata": {
        "id": "SMAi0AjYlxp8"
      },
      "execution_count": 41,
      "outputs": []
    },
    {
      "cell_type": "code",
      "source": [
        "# epochs (5번), batch_size = 디폴트 32\n",
        "history = model.fit(x_train, y_train, epochs=5)"
      ],
      "metadata": {
        "colab": {
          "base_uri": "https://localhost:8080/"
        },
        "id": "6tgWQ_38mEt-",
        "outputId": "33d065d6-d9b8-4da4-8a96-ec663f42c714"
      },
      "execution_count": 42,
      "outputs": [
        {
          "output_type": "stream",
          "name": "stdout",
          "text": [
            "Epoch 1/5\n",
            "1875/1875 [==============================] - 7s 4ms/step - loss: 2.6316 - accuracy: 0.8884\n",
            "Epoch 2/5\n",
            "1875/1875 [==============================] - 6s 3ms/step - loss: 0.3353 - accuracy: 0.9291\n",
            "Epoch 3/5\n",
            "1875/1875 [==============================] - 5s 3ms/step - loss: 0.2542 - accuracy: 0.9400\n",
            "Epoch 4/5\n",
            "1875/1875 [==============================] - 6s 3ms/step - loss: 0.2429 - accuracy: 0.9435\n",
            "Epoch 5/5\n",
            "1875/1875 [==============================] - 5s 3ms/step - loss: 0.2246 - accuracy: 0.9480\n"
          ]
        }
      ]
    },
    {
      "cell_type": "code",
      "source": [
        "# 학습 정확도 (epoch에 따른 accuracy 변화를 시각화)\n",
        "plt.plot(history.history['accuracy'],label='acc')\n",
        "plt.xlabel('epochs')\n",
        "plt.ylabel('accuracy')\n",
        "plt.legend()"
      ],
      "metadata": {
        "colab": {
          "base_uri": "https://localhost:8080/",
          "height": 468
        },
        "id": "tAtl7cKAnaaR",
        "outputId": "da246933-e221-43b3-b6f4-469012bb1fcf"
      },
      "execution_count": 43,
      "outputs": [
        {
          "output_type": "execute_result",
          "data": {
            "text/plain": [
              "<matplotlib.legend.Legend at 0x786529f0fdf0>"
            ]
          },
          "metadata": {},
          "execution_count": 43
        },
        {
          "output_type": "display_data",
          "data": {
            "text/plain": [
              "<Figure size 640x480 with 1 Axes>"
            ],
            "image/png": "[encoded data removed]"
          },
          "metadata": {}
        }
      ]
    },
    {
      "cell_type": "code",
      "source": [
        "# 학습 정확도 (epoch에 따른 loss 변화를 시각화)\n",
        "plt.plot(history.history['loss'],label='loss')\n",
        "plt.xlabel('epochs')\n",
        "plt.ylabel('loss')\n",
        "plt.legend()"
      ],
      "metadata": {
        "colab": {
          "base_uri": "https://localhost:8080/",
          "height": 467
        },
        "id": "Rmmd4SZYoVtW",
        "outputId": "085a13dd-2d49-4bed-a94b-25b175583243"
      },
      "execution_count": 45,
      "outputs": [
        {
          "output_type": "execute_result",
          "data": {
            "text/plain": [
              "<matplotlib.legend.Legend at 0x78651d83f910>"
            ]
          },
          "metadata": {},
          "execution_count": 45
        },
        {
          "output_type": "display_data",
          "data": {
            "text/plain": [
              "<Figure size 640x480 with 1 Axes>"
            ],
            "image/png": "[encoded data removed]"
          },
          "metadata": {}
        }
      ]
    },
    {
      "cell_type": "markdown",
      "source": [
        "**Fashino_mnist 실습**"
      ],
      "metadata": {
        "id": "stKFOhEStG1T"
      }
    },
    {
      "cell_type": "code",
      "source": [
        "# 라이브러리 호출\n",
        "import tensorflow as tf\n",
        "import numpy as np\n",
        "import matplotlib.pyplot as plt\n"
      ],
      "metadata": {
        "id": "PZJo7idxs-dI"
      },
      "execution_count": 1,
      "outputs": []
    },
    {
      "cell_type": "code",
      "source": [
        "# 데이터 호출\n",
        "mnist = tf.keras.datasets.fashion_mnist\n",
        "(x_train, y_train),(x_test, y_test) = mnist.load_data()"
      ],
      "metadata": {
        "colab": {
          "base_uri": "https://localhost:8080/"
        },
        "id": "aF1FR8fCtXIg",
        "outputId": "b21cce12-8e4d-48db-c82d-8f6562bd6a45"
      },
      "execution_count": 2,
      "outputs": [
        {
          "output_type": "stream",
          "name": "stdout",
          "text": [
            "Downloading data from https://storage.googleapis.com/tensorflow/tf-keras-datasets/train-labels-idx1-ubyte.gz\n",
            "29515/29515 [==============================] - 0s 0us/step\n",
            "Downloading data from https://storage.googleapis.com/tensorflow/tf-keras-datasets/train-images-idx3-ubyte.gz\n",
            "26421880/26421880 [==============================] - 0s 0us/step\n",
            "Downloading data from https://storage.googleapis.com/tensorflow/tf-keras-datasets/t10k-labels-idx1-ubyte.gz\n",
            "5148/5148 [==============================] - 0s 0us/step\n",
            "Downloading data from https://storage.googleapis.com/tensorflow/tf-keras-datasets/t10k-images-idx3-ubyte.gz\n",
            "4422102/4422102 [==============================] - 0s 0us/step\n"
          ]
        }
      ]
    },
    {
      "cell_type": "code",
      "source": [
        "# 데이터 크기 확인\n",
        "x_train.shape, y_train.shape, x_test.shape"
      ],
      "metadata": {
        "colab": {
          "base_uri": "https://localhost:8080/"
        },
        "id": "PDJyJ4f8uKEZ",
        "outputId": "791a57c6-9cd6-4752-beac-d027fe0535e9"
      },
      "execution_count": 3,
      "outputs": [
        {
          "output_type": "execute_result",
          "data": {
            "text/plain": [
              "((60000, 28, 28), (60000,), (10000, 28, 28))"
            ]
          },
          "metadata": {},
          "execution_count": 3
        }
      ]
    },
    {
      "cell_type": "code",
      "source": [
        "# 정규화 (0~1사이) : 데이터가 255개 있는것 어떻게 확인?\n",
        "# 픽셀의 값은 0~255 사이의 정수, 이미지의 픽셀 값을 정규화하는 일반적인 방법\n",
        "x_train, x_test = x_train/255.0, x_test/255.0"
      ],
      "metadata": {
        "id": "zcubVNDktmn7"
      },
      "execution_count": 4,
      "outputs": []
    },
    {
      "cell_type": "code",
      "source": [
        "# 데이터 확인(이미지)\n",
        "plt.imshow(x_train[0])"
      ],
      "metadata": {
        "colab": {
          "base_uri": "https://localhost:8080/",
          "height": 448
        },
        "id": "5oNuYBrquJLX",
        "outputId": "e5ca91ea-755a-4b05-a846-35c57f122851"
      },
      "execution_count": 5,
      "outputs": [
        {
          "output_type": "execute_result",
          "data": {
            "text/plain": [
              "<matplotlib.image.AxesImage at 0x79119bd235b0>"
            ]
          },
          "metadata": {},
          "execution_count": 5
        },
        {
          "output_type": "display_data",
          "data": {
            "text/plain": [
              "<Figure size 640x480 with 1 Axes>"
            ],
            "image/png": "[encoded data removed]"
          },
          "metadata": {}
        }
      ]
    },
    {
      "cell_type": "code",
      "source": [
        "y_train[0]"
      ],
      "metadata": {
        "colab": {
          "base_uri": "https://localhost:8080/"
        },
        "id": "jOY69ByCv8Uv",
        "outputId": "849cc1cb-e98e-48d0-caa7-4673bf2fa8fc"
      },
      "execution_count": 6,
      "outputs": [
        {
          "output_type": "execute_result",
          "data": {
            "text/plain": [
              "9"
            ]
          },
          "metadata": {},
          "execution_count": 6
        }
      ]
    },
    {
      "cell_type": "code",
      "source": [
        "# label 확인\n",
        "classes =[\n",
        "    \"T-shirt/top\", \"Trouser\", \"Pullover\", \"Dress\", \"Coat\",\n",
        "    \"Sandal\", \"Shirt\", \"Sneaker\", \"Bag\", \"Ankle boot\"\n",
        "]\n",
        "print(classes[y_train[0]])"
      ],
      "metadata": {
        "colab": {
          "base_uri": "https://localhost:8080/"
        },
        "id": "yfCF7VW3v_kB",
        "outputId": "47f636f0-ea02-49e3-f5d1-076881337acc"
      },
      "execution_count": 7,
      "outputs": [
        {
          "output_type": "stream",
          "name": "stdout",
          "text": [
            "Ankle boot\n"
          ]
        }
      ]
    },
    {
      "cell_type": "code",
      "source": [
        "# data 확인(이미지, 레이블)\n",
        "print(classes[y_train[1]])\n",
        "plt.imshow(x_train[1])"
      ],
      "metadata": {
        "colab": {
          "base_uri": "https://localhost:8080/",
          "height": 466
        },
        "id": "z-uho_aSwuDE",
        "outputId": "707e3e11-e9b9-4010-88ef-78ed2604256b"
      },
      "execution_count": 9,
      "outputs": [
        {
          "output_type": "stream",
          "name": "stdout",
          "text": [
            "T-shirt/top\n"
          ]
        },
        {
          "output_type": "execute_result",
          "data": {
            "text/plain": [
              "<matplotlib.image.AxesImage at 0x791199ab3c70>"
            ]
          },
          "metadata": {},
          "execution_count": 9
        },
        {
          "output_type": "display_data",
          "data": {
            "text/plain": [
              "<Figure size 640x480 with 1 Axes>"
            ],
            "image/png": "[encoded data removed]"
          },
          "metadata": {}
        }
      ]
    },
    {
      "cell_type": "code",
      "source": [
        "# 모델\n",
        "from tensorflow.keras.layers import Flatten, Dense, Dropout\n",
        "from tensorflow.keras.models import Sequential\n",
        "\n",
        "# Dropout layer 추가 : % 를 정해서 연결하는 비중을 선택할 수 있다 (과적합 방지)\n",
        "model = Sequential([\n",
        "    Flatten(input_shape=(28,28)),\n",
        "    Dense(128, activation='relu'),\n",
        "    Dropout(0.2),\n",
        "    Dense(10, activation='softmax')\n",
        "])\n",
        "\n",
        "# 컴파일\n",
        "model.compile(optimizer='adam',\n",
        "              loss='sparse_categorical_crossentropy',\n",
        "              metrics=['accuracy'])"
      ],
      "metadata": {
        "id": "UAU5fnw1w-El"
      },
      "execution_count": 11,
      "outputs": []
    },
    {
      "cell_type": "code",
      "source": [
        "# 학습\n",
        "# history = model.fit(x_train, y_train, validation_split=0.2,~): 20% 나눠서 검증데이터 해달라!\n",
        "history = model.fit(x_train, y_train, validation_data=(x_test, y_test), epochs=10)"
      ],
      "metadata": {
        "colab": {
          "base_uri": "https://localhost:8080/"
        },
        "id": "HlBpcHyUxueB",
        "outputId": "fa1c5281-70b9-460e-b5c1-ccf05b9e0f97"
      },
      "execution_count": 12,
      "outputs": [
        {
          "output_type": "stream",
          "name": "stdout",
          "text": [
            "Epoch 1/10\n",
            "1875/1875 [==============================] - 11s 5ms/step - loss: 0.5328 - accuracy: 0.8110 - val_loss: 0.4471 - val_accuracy: 0.8344\n",
            "Epoch 2/10\n",
            "1875/1875 [==============================] - 14s 7ms/step - loss: 0.3991 - accuracy: 0.8564 - val_loss: 0.3863 - val_accuracy: 0.8634\n",
            "Epoch 3/10\n",
            "1875/1875 [==============================] - 9s 5ms/step - loss: 0.3664 - accuracy: 0.8669 - val_loss: 0.3690 - val_accuracy: 0.8649\n",
            "Epoch 4/10\n",
            "1875/1875 [==============================] - 12s 6ms/step - loss: 0.3438 - accuracy: 0.8736 - val_loss: 0.3737 - val_accuracy: 0.8656\n",
            "Epoch 5/10\n",
            "1875/1875 [==============================] - 12s 6ms/step - loss: 0.3306 - accuracy: 0.8782 - val_loss: 0.3729 - val_accuracy: 0.8644\n",
            "Epoch 6/10\n",
            "1875/1875 [==============================] - 10s 5ms/step - loss: 0.3176 - accuracy: 0.8816 - val_loss: 0.3695 - val_accuracy: 0.8628\n",
            "Epoch 7/10\n",
            "1875/1875 [==============================] - 13s 7ms/step - loss: 0.3054 - accuracy: 0.8866 - val_loss: 0.3446 - val_accuracy: 0.8749\n",
            "Epoch 8/10\n",
            "1875/1875 [==============================] - 9s 5ms/step - loss: 0.2979 - accuracy: 0.8893 - val_loss: 0.3381 - val_accuracy: 0.8788\n",
            "Epoch 9/10\n",
            "1875/1875 [==============================] - 9s 5ms/step - loss: 0.2905 - accuracy: 0.8906 - val_loss: 0.3413 - val_accuracy: 0.8761\n",
            "Epoch 10/10\n",
            "1875/1875 [==============================] - 9s 5ms/step - loss: 0.2828 - accuracy: 0.8931 - val_loss: 0.3436 - val_accuracy: 0.8787\n"
          ]
        }
      ]
    },
    {
      "cell_type": "code",
      "source": [
        "# 학습 정확도\n",
        "plt.plot(history.history['accuracy'],label='acc')\n",
        "plt.plot(history.history['val_accuracy'],label='val')\n",
        "plt.xlabel('epochs')\n",
        "plt.ylabel('accuracy')\n",
        "plt.legend()"
      ],
      "metadata": {
        "colab": {
          "base_uri": "https://localhost:8080/",
          "height": 467
        },
        "id": "AhAj0IvFyLQw",
        "outputId": "dfa03d8c-3954-4ef9-95a4-18c41f9fbfa7"
      },
      "execution_count": 14,
      "outputs": [
        {
          "output_type": "execute_result",
          "data": {
            "text/plain": [
              "<matplotlib.legend.Legend at 0x7911781c6fb0>"
            ]
          },
          "metadata": {},
          "execution_count": 14
        },
        {
          "output_type": "display_data",
          "data": {
            "text/plain": [
              "<Figure size 640x480 with 1 Axes>"
            ],
            "image/png": "[encoded data removed]"
          },
          "metadata": {}
        }
      ]
    },
    {
      "cell_type": "code",
      "source": [
        "# 학습 정확도\n",
        "plt.plot(history.history['loss'],label='train')\n",
        "plt.plot(history.history['val_loss'],label='val')\n",
        "plt.xlabel('epochs')\n",
        "plt.ylabel('loss')\n",
        "plt.legend()"
      ],
      "metadata": {
        "colab": {
          "base_uri": "https://localhost:8080/",
          "height": 467
        },
        "id": "DKEnV3Igzm5p",
        "outputId": "e327e651-d8a0-49b0-a60d-842d29bef0b3"
      },
      "execution_count": 19,
      "outputs": [
        {
          "output_type": "execute_result",
          "data": {
            "text/plain": [
              "<matplotlib.legend.Legend at 0x79117a742200>"
            ]
          },
          "metadata": {},
          "execution_count": 19
        },
        {
          "output_type": "display_data",
          "data": {
            "text/plain": [
              "<Figure size 640x480 with 1 Axes>"
            ],
            "image/png": "[encoded data removed]"
          },
          "metadata": {}
        }
      ]
    },
    {
      "cell_type": "code",
      "source": [
        "# 예측\n",
        "pred = model.predict(x_test)\n",
        "pred[1]"
      ],
      "metadata": {
        "colab": {
          "base_uri": "https://localhost:8080/"
        },
        "id": "eJA_c652z59O",
        "outputId": "41d30ed8-f8d8-4fb9-bb8b-f2455c6ad772"
      },
      "execution_count": 23,
      "outputs": [
        {
          "output_type": "stream",
          "name": "stdout",
          "text": [
            "313/313 [==============================] - 1s 2ms/step\n"
          ]
        },
        {
          "output_type": "execute_result",
          "data": {
            "text/plain": [
              "array([3.9985109e-04, 4.1665801e-14, 9.9780297e-01, 3.1802902e-08,\n",
              "       5.3289690e-04, 2.8895332e-13, 1.2642688e-03, 3.9381010e-15,\n",
              "       1.6162045e-09, 3.8888331e-17], dtype=float32)"
            ]
          },
          "metadata": {},
          "execution_count": 23
        }
      ]
    },
    {
      "cell_type": "code",
      "source": [
        "# 가장 높은 값 찾기 (np.argmax()는 데이터 중 가장 높은 인덱스 값 반환)\n",
        "# 예측데이터 인덱스 1의 데이터 중 가장 높은 확률을 가진 값 반환(매칭), class 중 1개\n",
        "np.argmax(pred[1])"
      ],
      "metadata": {
        "colab": {
          "base_uri": "https://localhost:8080/"
        },
        "id": "5qGOIB130bie",
        "outputId": "cb87c3de-6420-4a96-aa49-c7199e7c2a2b"
      },
      "execution_count": 21,
      "outputs": [
        {
          "output_type": "execute_result",
          "data": {
            "text/plain": [
              "2"
            ]
          },
          "metadata": {},
          "execution_count": 21
        }
      ]
    },
    {
      "cell_type": "code",
      "source": [
        "# 예측한 label\n",
        "classes[np.argmax(pred[1])]"
      ],
      "metadata": {
        "colab": {
          "base_uri": "https://localhost:8080/",
          "height": 36
        },
        "id": "CpekpFVI1mmu",
        "outputId": "91724a9b-7bf4-4f68-fa69-7f1f25bcbbea"
      },
      "execution_count": 22,
      "outputs": [
        {
          "output_type": "execute_result",
          "data": {
            "text/plain": [
              "'Pullover'"
            ],
            "application/vnd.google.colaboratory.intrinsic+json": {
              "type": "string"
            }
          },
          "metadata": {},
          "execution_count": 22
        }
      ]
    },
    {
      "cell_type": "code",
      "source": [
        "# 이미지 확인\n",
        "plt.imshow(x_test[1])"
      ],
      "metadata": {
        "colab": {
          "base_uri": "https://localhost:8080/",
          "height": 448
        },
        "id": "_ScC7kKg2Y8Y",
        "outputId": "cbd08422-84f0-4bac-90f8-3c05bfa6e17f"
      },
      "execution_count": 24,
      "outputs": [
        {
          "output_type": "execute_result",
          "data": {
            "text/plain": [
              "<matplotlib.image.AxesImage at 0x79117d54dc00>"
            ]
          },
          "metadata": {},
          "execution_count": 24
        },
        {
          "output_type": "display_data",
          "data": {
            "text/plain": [
              "<Figure size 640x480 with 1 Axes>"
            ],
            "image/png": "[encoded data removed]"
          },
          "metadata": {}
        }
      ]
    },
    {
      "cell_type": "markdown",
      "source": [
        "## 3. **CNN을 활용한 이미지 분류**\n",
        "\n",
        "* 모델의 성능을 향상시키기 위함\n",
        "* CNN\n",
        "  * 시각적 영상을 분석하는 데 사용되는 다층의 피드-포워드적인 인공신경망의 한종류\n",
        "  * 합성곱층(convolution layer)과 풀링층(pooling layer)으로 구성\n",
        "  * Flatten, Dense layer 전 단계 레이어 추가\n",
        "\n"
      ],
      "metadata": {
        "id": "4NbFTbsx2h8K"
      }
    },
    {
      "cell_type": "markdown",
      "source": [
        "**CNN 실습**"
      ],
      "metadata": {
        "id": "uzNAkrouNq43"
      }
    },
    {
      "cell_type": "code",
      "source": [
        "# 라이브러리 호출\n",
        "import tensorflow as tf\n",
        "import matplotlib.pyplot as plt\n",
        "from tensorflow.keras.layers import Flatten, Dense, Dropout, Conv2D, MaxPooling2D\n",
        "from tensorflow.keras.models import Sequential\n",
        "\n",
        "# 데이터 호출\n",
        "mnist = tf.keras.datasets.fashion_mnist\n",
        "(x_train, y_train),(x_test, y_test) = mnist.load_data()\n",
        "\n",
        "# shape 변경 : reshape을 통해 1을 추가함. 왜? 이미지를 입력 받아야해서 깊이(채널수) 입력을 위해 그레이스 케이스 '1'을 추가\n",
        "x_train = x_train.reshape((60000,28,28,1))\n",
        "x_test = x_test.reshape((10000,28,28,1))\n",
        "\n",
        "# 정규화\n",
        "x_train, x_test = x_train/255.0, x_test/255.0\n",
        "\n",
        "# 모델\n",
        "model = Sequential([\n",
        "\n",
        "    # 해당 레이어에서 사용될 32개에 커널이 3 by 3 커널수로 필터한다 (합성곱을 통해서)\n",
        "    # 3x3 커널을 디폴트로 사용하면, shape -2\n",
        "    Conv2D(32,(3,3), activation='relu', input_shape=(28,28,1)),\n",
        "\n",
        "    # Conv2D로 필터한 커널에서 최대 풀링 레이어를 정의한다. (2,2)는 풀링 윈도우의 크기, 출력의 가로/세로는 절반으로 줄어든다\n",
        "    MaxPooling2D((2,2)),\n",
        "    Conv2D(64,(3,3), activation='relu'),\n",
        "    MaxPooling2D((2,2)),\n",
        "    Flatten(),\n",
        "    Dense(64, activation='relu'),\n",
        "    Dense(10, activation='softmax')\n",
        "])\n",
        "\n",
        "# 컴파일\n",
        "model.compile(optimizer='adam',\n",
        "              loss='sparse_categorical_crossentropy',\n",
        "              metrics=['accuracy'])"
      ],
      "metadata": {
        "id": "VbR07DZQNYay"
      },
      "execution_count": 39,
      "outputs": []
    },
    {
      "cell_type": "code",
      "source": [
        "model.summary()"
      ],
      "metadata": {
        "colab": {
          "base_uri": "https://localhost:8080/"
        },
        "id": "YLGRdyyDSp86",
        "outputId": "52d7f1e3-ba8c-43af-f846-6c8740ff6cc2"
      },
      "execution_count": 40,
      "outputs": [
        {
          "output_type": "stream",
          "name": "stdout",
          "text": [
            "Model: \"sequential_5\"\n",
            "_________________________________________________________________\n",
            " Layer (type)                Output Shape              Param #   \n",
            "=================================================================\n",
            " conv2d_12 (Conv2D)          (None, 26, 26, 64)        640       \n",
            "                                                                 \n",
            " max_pooling2d_8 (MaxPoolin  (None, 13, 13, 64)        0         \n",
            " g2D)                                                            \n",
            "                                                                 \n",
            " conv2d_13 (Conv2D)          (None, 11, 11, 64)        36928     \n",
            "                                                                 \n",
            " max_pooling2d_9 (MaxPoolin  (None, 5, 5, 64)          0         \n",
            " g2D)                                                            \n",
            "                                                                 \n",
            " flatten_5 (Flatten)         (None, 1600)              0         \n",
            "                                                                 \n",
            " dense_10 (Dense)            (None, 64)                102464    \n",
            "                                                                 \n",
            " dense_11 (Dense)            (None, 10)                650       \n",
            "                                                                 \n",
            "=================================================================\n",
            "Total params: 140682 (549.54 KB)\n",
            "Trainable params: 140682 (549.54 KB)\n",
            "Non-trainable params: 0 (0.00 Byte)\n",
            "_________________________________________________________________\n"
          ]
        }
      ]
    },
    {
      "cell_type": "code",
      "source": [
        "# 학습\n",
        "history = model.fit(x_train, y_train, validation_data=(x_test,y_test), epochs=10)"
      ],
      "metadata": {
        "colab": {
          "base_uri": "https://localhost:8080/"
        },
        "id": "Zo5zGew5UB4m",
        "outputId": "dc909d2a-15fc-447b-e0a5-a4e0179e4432"
      },
      "execution_count": 38,
      "outputs": [
        {
          "output_type": "stream",
          "name": "stdout",
          "text": [
            "Epoch 1/10\n",
            "1875/1875 [==============================] - 60s 32ms/step - loss: 0.4565 - accuracy: 0.8353 - val_loss: 0.3556 - val_accuracy: 0.8737\n",
            "Epoch 2/10\n",
            "1875/1875 [==============================] - 60s 32ms/step - loss: 0.3078 - accuracy: 0.8878 - val_loss: 0.3177 - val_accuracy: 0.8852\n",
            "Epoch 3/10\n",
            "1875/1875 [==============================] - 60s 32ms/step - loss: 0.2632 - accuracy: 0.9031 - val_loss: 0.3066 - val_accuracy: 0.8897\n",
            "Epoch 4/10\n",
            "1875/1875 [==============================] - 54s 29ms/step - loss: 0.2345 - accuracy: 0.9127 - val_loss: 0.2806 - val_accuracy: 0.8957\n",
            "Epoch 5/10\n",
            "1875/1875 [==============================] - 59s 31ms/step - loss: 0.2103 - accuracy: 0.9210 - val_loss: 0.2559 - val_accuracy: 0.9093\n",
            "Epoch 6/10\n",
            "1875/1875 [==============================] - 58s 31ms/step - loss: 0.1874 - accuracy: 0.9306 - val_loss: 0.2513 - val_accuracy: 0.9089\n",
            "Epoch 7/10\n",
            "1875/1875 [==============================] - 64s 34ms/step - loss: 0.1690 - accuracy: 0.9365 - val_loss: 0.2480 - val_accuracy: 0.9135\n",
            "Epoch 8/10\n",
            "1875/1875 [==============================] - 54s 29ms/step - loss: 0.1532 - accuracy: 0.9425 - val_loss: 0.2569 - val_accuracy: 0.9091\n",
            "Epoch 9/10\n",
            "1875/1875 [==============================] - 55s 30ms/step - loss: 0.1405 - accuracy: 0.9482 - val_loss: 0.2763 - val_accuracy: 0.9076\n",
            "Epoch 10/10\n",
            "1875/1875 [==============================] - 54s 29ms/step - loss: 0.1285 - accuracy: 0.9517 - val_loss: 0.2759 - val_accuracy: 0.9089\n"
          ]
        }
      ]
    },
    {
      "cell_type": "code",
      "source": [
        "# 학습 정확도\n",
        "\n",
        "plt.plot(history.history['accuracy'],label='acc')\n",
        "plt.plot(history.history['val_accuracy'],label='val_acc')\n",
        "plt.xlabel('epochs')\n",
        "plt.ylabel('accuracy')\n",
        "plt.legend()"
      ],
      "metadata": {
        "colab": {
          "base_uri": "https://localhost:8080/",
          "height": 467
        },
        "id": "vFoVeX0AUB5q",
        "outputId": "042884f1-cdd5-429e-b27f-8c014a592b8d"
      },
      "execution_count": 42,
      "outputs": [
        {
          "output_type": "execute_result",
          "data": {
            "text/plain": [
              "<matplotlib.legend.Legend at 0x791169ab9a80>"
            ]
          },
          "metadata": {},
          "execution_count": 42
        },
        {
          "output_type": "display_data",
          "data": {
            "text/plain": [
              "<Figure size 640x480 with 1 Axes>"
            ],
            "image/png": "[encoded data removed]"
          },
          "metadata": {}
        }
      ]
    },
    {
      "cell_type": "code",
      "source": [
        "# loss\n",
        "\n",
        "plt.plot(history.history['loss'],label='loss')\n",
        "plt.plot(history.history['val_loss'],label='val_loss')\n",
        "plt.xlabel('epochs')\n",
        "plt.ylabel('loss')\n",
        "plt.legend()"
      ],
      "metadata": {
        "colab": {
          "base_uri": "https://localhost:8080/",
          "height": 467
        },
        "id": "rCe25gYVXnpO",
        "outputId": "4a51e5cf-e37e-4fb5-aeda-4c34bf049594"
      },
      "execution_count": 43,
      "outputs": [
        {
          "output_type": "execute_result",
          "data": {
            "text/plain": [
              "<matplotlib.legend.Legend at 0x791169a7acb0>"
            ]
          },
          "metadata": {},
          "execution_count": 43
        },
        {
          "output_type": "display_data",
          "data": {
            "text/plain": [
              "<Figure size 640x480 with 1 Axes>"
            ],
            "image/png": "[encoded data removed]"
          },
          "metadata": {}
        }
      ]
    }
  ]
}